{
  "nbformat": 4,
  "nbformat_minor": 0,
  "metadata": {
    "colab": {
      "provenance": []
    },
    "kernelspec": {
      "name": "python3",
      "display_name": "Python 3"
    },
    "language_info": {
      "name": "python"
    }
  },
  "cells": [
    {
      "cell_type": "markdown",
      "source": [
        "Load Data"
      ],
      "metadata": {
        "id": "P0UOf0OT78V1"
      }
    },
    {
      "cell_type": "code",
      "execution_count": null,
      "metadata": {
        "id": "bJnI66lgeuQ1"
      },
      "outputs": [],
      "source": [
        "# Import all possible libraries that are needed\n",
        "import pandas as pd\n",
        "import numpy as np\n",
        "import seaborn as sns\n",
        "import matplotlib.pyplot as plt\n",
        "%matplotlib inline\n",
        "\n",
        "import email\n",
        "import re\n",
        "import random\n",
        "from nltk.corpus import stopwords\n",
        "from sklearn.feature_extraction.text import TfidfVectorizer, CountVectorizer\n",
        "from sklearn.linear_model import LogisticRegression, SGDClassifier\n",
        "from sklearn import metrics \n",
        "from sklearn.feature_selection import SelectFromModel\n",
        "from sklearn.svm import LinearSVC\n",
        "from sklearn.naive_bayes import MultinomialNB\n",
        "from sklearn.pipeline import make_pipeline\n",
        "from sklearn.metrics import confusion_matrix, accuracy_score\n",
        "from sklearn.model_selection import cross_val_score\n",
        "from sklearn.model_selection import GridSearchCV\n",
        "from sklearn.metrics import classification_report\n",
        "from sklearn.model_selection import train_test_split\n",
        "from sklearn.decomposition import TruncatedSVD\n",
        "\n",
        "from scipy.sparse import coo_matrix, hstack"
      ]
    },
    {
      "cell_type": "code",
      "source": [
        "from google.colab import drive\n",
        "drive.mount('/content/drive')"
      ],
      "metadata": {
        "colab": {
          "base_uri": "https://localhost:8080/"
        },
        "id": "jtjZ-zWzqfLQ",
        "outputId": "4838de94-d183-4b4a-ec94-c127f4d762a3"
      },
      "execution_count": null,
      "outputs": [
        {
          "output_type": "stream",
          "name": "stdout",
          "text": [
            "Drive already mounted at /content/drive; to attempt to forcibly remount, call drive.mount(\"/content/drive\", force_remount=True).\n"
          ]
        }
      ]
    },
    {
      "cell_type": "code",
      "source": [
        "# considering the run-time, we only read the first 500 rows here\n",
        "df = pd.read_csv(\"/content/drive/MyDrive/Colab Notebooks/emails.csv\")\n",
        "enron = df.copy()"
      ],
      "metadata": {
        "id": "sUA07J66oWbY"
      },
      "execution_count": null,
      "outputs": []
    },
    {
      "cell_type": "code",
      "source": [
        "df.head()"
      ],
      "metadata": {
        "colab": {
          "base_uri": "https://localhost:8080/",
          "height": 206
        },
        "id": "OTsf7LCto5qw",
        "outputId": "f14667b2-4f52-403e-8723-10ac02d93390"
      },
      "execution_count": null,
      "outputs": [
        {
          "output_type": "execute_result",
          "data": {
            "text/plain": [
              "                       file                                            message\n",
              "0     allen-p/_sent_mail/1.  Message-ID: <18782981.1075855378110.JavaMail.e...\n",
              "1    allen-p/_sent_mail/10.  Message-ID: <15464986.1075855378456.JavaMail.e...\n",
              "2   allen-p/_sent_mail/100.  Message-ID: <24216240.1075855687451.JavaMail.e...\n",
              "3  allen-p/_sent_mail/1000.  Message-ID: <13505866.1075863688222.JavaMail.e...\n",
              "4  allen-p/_sent_mail/1001.  Message-ID: <30922949.1075863688243.JavaMail.e..."
            ],
            "text/html": [
              "\n",
              "  <div id=\"df-776680f3-5b02-48bf-b620-a937fd186223\">\n",
              "    <div class=\"colab-df-container\">\n",
              "      <div>\n",
              "<style scoped>\n",
              "    .dataframe tbody tr th:only-of-type {\n",
              "        vertical-align: middle;\n",
              "    }\n",
              "\n",
              "    .dataframe tbody tr th {\n",
              "        vertical-align: top;\n",
              "    }\n",
              "\n",
              "    .dataframe thead th {\n",
              "        text-align: right;\n",
              "    }\n",
              "</style>\n",
              "<table border=\"1\" class=\"dataframe\">\n",
              "  <thead>\n",
              "    <tr style=\"text-align: right;\">\n",
              "      <th></th>\n",
              "      <th>file</th>\n",
              "      <th>message</th>\n",
              "    </tr>\n",
              "  </thead>\n",
              "  <tbody>\n",
              "    <tr>\n",
              "      <th>0</th>\n",
              "      <td>allen-p/_sent_mail/1.</td>\n",
              "      <td>Message-ID: &lt;18782981.1075855378110.JavaMail.e...</td>\n",
              "    </tr>\n",
              "    <tr>\n",
              "      <th>1</th>\n",
              "      <td>allen-p/_sent_mail/10.</td>\n",
              "      <td>Message-ID: &lt;15464986.1075855378456.JavaMail.e...</td>\n",
              "    </tr>\n",
              "    <tr>\n",
              "      <th>2</th>\n",
              "      <td>allen-p/_sent_mail/100.</td>\n",
              "      <td>Message-ID: &lt;24216240.1075855687451.JavaMail.e...</td>\n",
              "    </tr>\n",
              "    <tr>\n",
              "      <th>3</th>\n",
              "      <td>allen-p/_sent_mail/1000.</td>\n",
              "      <td>Message-ID: &lt;13505866.1075863688222.JavaMail.e...</td>\n",
              "    </tr>\n",
              "    <tr>\n",
              "      <th>4</th>\n",
              "      <td>allen-p/_sent_mail/1001.</td>\n",
              "      <td>Message-ID: &lt;30922949.1075863688243.JavaMail.e...</td>\n",
              "    </tr>\n",
              "  </tbody>\n",
              "</table>\n",
              "</div>\n",
              "      <button class=\"colab-df-convert\" onclick=\"convertToInteractive('df-776680f3-5b02-48bf-b620-a937fd186223')\"\n",
              "              title=\"Convert this dataframe to an interactive table.\"\n",
              "              style=\"display:none;\">\n",
              "        \n",
              "  <svg xmlns=\"http://www.w3.org/2000/svg\" height=\"24px\"viewBox=\"0 0 24 24\"\n",
              "       width=\"24px\">\n",
              "    <path d=\"M0 0h24v24H0V0z\" fill=\"none\"/>\n",
              "    <path d=\"M18.56 5.44l.94 2.06.94-2.06 2.06-.94-2.06-.94-.94-2.06-.94 2.06-2.06.94zm-11 1L8.5 8.5l.94-2.06 2.06-.94-2.06-.94L8.5 2.5l-.94 2.06-2.06.94zm10 10l.94 2.06.94-2.06 2.06-.94-2.06-.94-.94-2.06-.94 2.06-2.06.94z\"/><path d=\"M17.41 7.96l-1.37-1.37c-.4-.4-.92-.59-1.43-.59-.52 0-1.04.2-1.43.59L10.3 9.45l-7.72 7.72c-.78.78-.78 2.05 0 2.83L4 21.41c.39.39.9.59 1.41.59.51 0 1.02-.2 1.41-.59l7.78-7.78 2.81-2.81c.8-.78.8-2.07 0-2.86zM5.41 20L4 18.59l7.72-7.72 1.47 1.35L5.41 20z\"/>\n",
              "  </svg>\n",
              "      </button>\n",
              "      \n",
              "  <style>\n",
              "    .colab-df-container {\n",
              "      display:flex;\n",
              "      flex-wrap:wrap;\n",
              "      gap: 12px;\n",
              "    }\n",
              "\n",
              "    .colab-df-convert {\n",
              "      background-color: #E8F0FE;\n",
              "      border: none;\n",
              "      border-radius: 50%;\n",
              "      cursor: pointer;\n",
              "      display: none;\n",
              "      fill: #1967D2;\n",
              "      height: 32px;\n",
              "      padding: 0 0 0 0;\n",
              "      width: 32px;\n",
              "    }\n",
              "\n",
              "    .colab-df-convert:hover {\n",
              "      background-color: #E2EBFA;\n",
              "      box-shadow: 0px 1px 2px rgba(60, 64, 67, 0.3), 0px 1px 3px 1px rgba(60, 64, 67, 0.15);\n",
              "      fill: #174EA6;\n",
              "    }\n",
              "\n",
              "    [theme=dark] .colab-df-convert {\n",
              "      background-color: #3B4455;\n",
              "      fill: #D2E3FC;\n",
              "    }\n",
              "\n",
              "    [theme=dark] .colab-df-convert:hover {\n",
              "      background-color: #434B5C;\n",
              "      box-shadow: 0px 1px 3px 1px rgba(0, 0, 0, 0.15);\n",
              "      filter: drop-shadow(0px 1px 2px rgba(0, 0, 0, 0.3));\n",
              "      fill: #FFFFFF;\n",
              "    }\n",
              "  </style>\n",
              "\n",
              "      <script>\n",
              "        const buttonEl =\n",
              "          document.querySelector('#df-776680f3-5b02-48bf-b620-a937fd186223 button.colab-df-convert');\n",
              "        buttonEl.style.display =\n",
              "          google.colab.kernel.accessAllowed ? 'block' : 'none';\n",
              "\n",
              "        async function convertToInteractive(key) {\n",
              "          const element = document.querySelector('#df-776680f3-5b02-48bf-b620-a937fd186223');\n",
              "          const dataTable =\n",
              "            await google.colab.kernel.invokeFunction('convertToInteractive',\n",
              "                                                     [key], {});\n",
              "          if (!dataTable) return;\n",
              "\n",
              "          const docLinkHtml = 'Like what you see? Visit the ' +\n",
              "            '<a target=\"_blank\" href=https://colab.research.google.com/notebooks/data_table.ipynb>data table notebook</a>'\n",
              "            + ' to learn more about interactive tables.';\n",
              "          element.innerHTML = '';\n",
              "          dataTable['output_type'] = 'display_data';\n",
              "          await google.colab.output.renderOutput(dataTable, element);\n",
              "          const docLink = document.createElement('div');\n",
              "          docLink.innerHTML = docLinkHtml;\n",
              "          element.appendChild(docLink);\n",
              "        }\n",
              "      </script>\n",
              "    </div>\n",
              "  </div>\n",
              "  "
            ]
          },
          "metadata": {},
          "execution_count": 9
        }
      ]
    },
    {
      "cell_type": "code",
      "source": [
        "df.describe()"
      ],
      "metadata": {
        "colab": {
          "base_uri": "https://localhost:8080/",
          "height": 175
        },
        "id": "jnALULQo1qzX",
        "outputId": "1c4c24a1-546d-4a0e-caf1-d2199db0bede"
      },
      "execution_count": null,
      "outputs": [
        {
          "output_type": "execute_result",
          "data": {
            "text/plain": [
              "                         file  \\\n",
              "count                  517401   \n",
              "unique                 517401   \n",
              "top     allen-p/_sent_mail/1.   \n",
              "freq                        1   \n",
              "\n",
              "                                                  message  \n",
              "count                                              517401  \n",
              "unique                                             517401  \n",
              "top     Message-ID: <18782981.1075855378110.JavaMail.e...  \n",
              "freq                                                    1  "
            ],
            "text/html": [
              "\n",
              "  <div id=\"df-3bed66d2-a80b-411d-ae15-b88fe1c3eb8a\">\n",
              "    <div class=\"colab-df-container\">\n",
              "      <div>\n",
              "<style scoped>\n",
              "    .dataframe tbody tr th:only-of-type {\n",
              "        vertical-align: middle;\n",
              "    }\n",
              "\n",
              "    .dataframe tbody tr th {\n",
              "        vertical-align: top;\n",
              "    }\n",
              "\n",
              "    .dataframe thead th {\n",
              "        text-align: right;\n",
              "    }\n",
              "</style>\n",
              "<table border=\"1\" class=\"dataframe\">\n",
              "  <thead>\n",
              "    <tr style=\"text-align: right;\">\n",
              "      <th></th>\n",
              "      <th>file</th>\n",
              "      <th>message</th>\n",
              "    </tr>\n",
              "  </thead>\n",
              "  <tbody>\n",
              "    <tr>\n",
              "      <th>count</th>\n",
              "      <td>517401</td>\n",
              "      <td>517401</td>\n",
              "    </tr>\n",
              "    <tr>\n",
              "      <th>unique</th>\n",
              "      <td>517401</td>\n",
              "      <td>517401</td>\n",
              "    </tr>\n",
              "    <tr>\n",
              "      <th>top</th>\n",
              "      <td>allen-p/_sent_mail/1.</td>\n",
              "      <td>Message-ID: &lt;18782981.1075855378110.JavaMail.e...</td>\n",
              "    </tr>\n",
              "    <tr>\n",
              "      <th>freq</th>\n",
              "      <td>1</td>\n",
              "      <td>1</td>\n",
              "    </tr>\n",
              "  </tbody>\n",
              "</table>\n",
              "</div>\n",
              "      <button class=\"colab-df-convert\" onclick=\"convertToInteractive('df-3bed66d2-a80b-411d-ae15-b88fe1c3eb8a')\"\n",
              "              title=\"Convert this dataframe to an interactive table.\"\n",
              "              style=\"display:none;\">\n",
              "        \n",
              "  <svg xmlns=\"http://www.w3.org/2000/svg\" height=\"24px\"viewBox=\"0 0 24 24\"\n",
              "       width=\"24px\">\n",
              "    <path d=\"M0 0h24v24H0V0z\" fill=\"none\"/>\n",
              "    <path d=\"M18.56 5.44l.94 2.06.94-2.06 2.06-.94-2.06-.94-.94-2.06-.94 2.06-2.06.94zm-11 1L8.5 8.5l.94-2.06 2.06-.94-2.06-.94L8.5 2.5l-.94 2.06-2.06.94zm10 10l.94 2.06.94-2.06 2.06-.94-2.06-.94-.94-2.06-.94 2.06-2.06.94z\"/><path d=\"M17.41 7.96l-1.37-1.37c-.4-.4-.92-.59-1.43-.59-.52 0-1.04.2-1.43.59L10.3 9.45l-7.72 7.72c-.78.78-.78 2.05 0 2.83L4 21.41c.39.39.9.59 1.41.59.51 0 1.02-.2 1.41-.59l7.78-7.78 2.81-2.81c.8-.78.8-2.07 0-2.86zM5.41 20L4 18.59l7.72-7.72 1.47 1.35L5.41 20z\"/>\n",
              "  </svg>\n",
              "      </button>\n",
              "      \n",
              "  <style>\n",
              "    .colab-df-container {\n",
              "      display:flex;\n",
              "      flex-wrap:wrap;\n",
              "      gap: 12px;\n",
              "    }\n",
              "\n",
              "    .colab-df-convert {\n",
              "      background-color: #E8F0FE;\n",
              "      border: none;\n",
              "      border-radius: 50%;\n",
              "      cursor: pointer;\n",
              "      display: none;\n",
              "      fill: #1967D2;\n",
              "      height: 32px;\n",
              "      padding: 0 0 0 0;\n",
              "      width: 32px;\n",
              "    }\n",
              "\n",
              "    .colab-df-convert:hover {\n",
              "      background-color: #E2EBFA;\n",
              "      box-shadow: 0px 1px 2px rgba(60, 64, 67, 0.3), 0px 1px 3px 1px rgba(60, 64, 67, 0.15);\n",
              "      fill: #174EA6;\n",
              "    }\n",
              "\n",
              "    [theme=dark] .colab-df-convert {\n",
              "      background-color: #3B4455;\n",
              "      fill: #D2E3FC;\n",
              "    }\n",
              "\n",
              "    [theme=dark] .colab-df-convert:hover {\n",
              "      background-color: #434B5C;\n",
              "      box-shadow: 0px 1px 3px 1px rgba(0, 0, 0, 0.15);\n",
              "      filter: drop-shadow(0px 1px 2px rgba(0, 0, 0, 0.3));\n",
              "      fill: #FFFFFF;\n",
              "    }\n",
              "  </style>\n",
              "\n",
              "      <script>\n",
              "        const buttonEl =\n",
              "          document.querySelector('#df-3bed66d2-a80b-411d-ae15-b88fe1c3eb8a button.colab-df-convert');\n",
              "        buttonEl.style.display =\n",
              "          google.colab.kernel.accessAllowed ? 'block' : 'none';\n",
              "\n",
              "        async function convertToInteractive(key) {\n",
              "          const element = document.querySelector('#df-3bed66d2-a80b-411d-ae15-b88fe1c3eb8a');\n",
              "          const dataTable =\n",
              "            await google.colab.kernel.invokeFunction('convertToInteractive',\n",
              "                                                     [key], {});\n",
              "          if (!dataTable) return;\n",
              "\n",
              "          const docLinkHtml = 'Like what you see? Visit the ' +\n",
              "            '<a target=\"_blank\" href=https://colab.research.google.com/notebooks/data_table.ipynb>data table notebook</a>'\n",
              "            + ' to learn more about interactive tables.';\n",
              "          element.innerHTML = '';\n",
              "          dataTable['output_type'] = 'display_data';\n",
              "          await google.colab.output.renderOutput(dataTable, element);\n",
              "          const docLink = document.createElement('div');\n",
              "          docLink.innerHTML = docLinkHtml;\n",
              "          element.appendChild(docLink);\n",
              "        }\n",
              "      </script>\n",
              "    </div>\n",
              "  </div>\n",
              "  "
            ]
          },
          "metadata": {},
          "execution_count": 10
        }
      ]
    },
    {
      "cell_type": "code",
      "source": [
        "email_sent = df[df[\"file\"].str.contains('sent').tolist()]"
      ],
      "metadata": {
        "id": "ZH8XzSKHNivm"
      },
      "execution_count": null,
      "outputs": []
    },
    {
      "cell_type": "code",
      "source": [
        "email_sent = email_sent.assign(sender=email_sent[\"file\"].map(lambda x: re.search(\"(.*)/.*sent\", x).group(1)).values)\n",
        "email_sent.drop(\"file\", axis=1, inplace=True)\n",
        "email_sent[\"sender\"].value_counts().head(15)"
      ],
      "metadata": {
        "id": "m7unOZuCN3JV",
        "colab": {
          "base_uri": "https://localhost:8080/"
        },
        "outputId": "ebfd9c6b-0db4-4987-a87d-74a4ac060364"
      },
      "execution_count": null,
      "outputs": [
        {
          "output_type": "execute_result",
          "data": {
            "text/plain": [
              "mann-k           8926\n",
              "kaminski-v       8644\n",
              "dasovich-j       5366\n",
              "germany-c        5128\n",
              "shackleton-s     4407\n",
              "jones-t          4123\n",
              "bass-e           3030\n",
              "lenhart-m        2759\n",
              "beck-s           2674\n",
              "symes-k          2649\n",
              "scott-s          2602\n",
              "taylor-m         2409\n",
              "love-p           2371\n",
              "arnold-j         2353\n",
              "perlingiere-d    2352\n",
              "Name: sender, dtype: int64"
            ]
          },
          "metadata": {},
          "execution_count": 12
        }
      ]
    },
    {
      "cell_type": "code",
      "source": [
        "all_sender = email_sent[\"sender\"].value_counts(normalize=False, sort=False)\n",
        "all_sender"
      ],
      "metadata": {
        "id": "sYR9jBqNYDpX",
        "colab": {
          "base_uri": "https://localhost:8080/"
        },
        "outputId": "64a47a36-9eba-45af-b975-59c14c79fe57"
      },
      "execution_count": null,
      "outputs": [
        {
          "output_type": "execute_result",
          "data": {
            "text/plain": [
              "allen-p        1509\n",
              "arnold-j       2353\n",
              "arora-h          78\n",
              "badeer-r         59\n",
              "bailey-s         14\n",
              "               ... \n",
              "williams-w3     519\n",
              "wolfe-j          93\n",
              "ybarbo-p        130\n",
              "zipper-a        350\n",
              "zufferli-j      338\n",
              "Name: sender, Length: 154, dtype: int64"
            ]
          },
          "metadata": {},
          "execution_count": 13
        }
      ]
    },
    {
      "cell_type": "code",
      "source": [
        "all_sender.plot.bar(ylim=0)\n",
        "plt.show()"
      ],
      "metadata": {
        "id": "djrMBRBxab38",
        "colab": {
          "base_uri": "https://localhost:8080/",
          "height": 384
        },
        "outputId": "b36cce91-96cc-4ff5-8efa-f8bce2002ab2"
      },
      "execution_count": null,
      "outputs": [
        {
          "output_type": "display_data",
          "data": {
            "text/plain": [
              "<Figure size 432x288 with 1 Axes>"
            ],
            "image/png": "[encoded data removed]"
          },
          "metadata": {
            "needs_background": "light"
          }
        }
      ]
    },
    {
      "cell_type": "code",
      "source": [
        "# mapping top senders' names to use later as label series\n",
        "# we work only with top 15 senders\n",
        "\n",
        "top_senders = email_sent[\"sender\"].value_counts().head(15).index.values\n",
        "mapping = dict(zip(top_senders, range(15)))"
      ],
      "metadata": {
        "id": "jo1iwiUEdbUc"
      },
      "execution_count": null,
      "outputs": []
    },
    {
      "cell_type": "code",
      "source": [
        "(email_sent[\"sender\"].value_counts().head(15)).plot.bar(ylim=0)\n",
        "plt.show()"
      ],
      "metadata": {
        "id": "IR-CtBuXb5gd",
        "colab": {
          "base_uri": "https://localhost:8080/",
          "height": 319
        },
        "outputId": "bad92cb2-23c6-44ea-e2af-1188a44cc3bd"
      },
      "execution_count": null,
      "outputs": [
        {
          "output_type": "display_data",
          "data": {
            "text/plain": [
              "<Figure size 432x288 with 1 Axes>"
            ],
            "image/png": "[encoded data removed]"
          },
          "metadata": {
            "needs_background": "light"
          }
        }
      ]
    },
    {
      "cell_type": "markdown",
      "source": [
        "Extract Raw Text"
      ],
      "metadata": {
        "id": "WqozI1EY_a7o"
      }
    },
    {
      "cell_type": "code",
      "source": [
        "# extract headings\n",
        "# From\n",
        "# To\n",
        "# ...\n",
        "def raw_process(raw_data):\n",
        "    body = email.message_from_string(raw_data)\n",
        "    \n",
        "    content = []\n",
        "    # extract the useful info for headings\n",
        "    for part in body.walk():\n",
        "        if part.get_content_type() == 'text/plain':\n",
        "            content.append(part.get_payload())\n",
        "            \n",
        "    result = {}\n",
        "    for key in body.keys(): \n",
        "        result[key] = body[key]\n",
        "    result[\"content\"] = ''.join(content)\n",
        "    \n",
        "    return result"
      ],
      "metadata": {
        "id": "JbbtYteveDI7"
      },
      "execution_count": null,
      "outputs": []
    },
    {
      "cell_type": "code",
      "source": [
        "# extract text body from raw text\n",
        "email_parsed = pd.DataFrame(list(map(raw_process, email_sent.message)))\n",
        "# extract the user from file\n",
        "#email_parsed['user'] = email_parsed['file'].map(lambda x: x.split('/')[0])\n",
        "email_parsed.head(1)"
      ],
      "metadata": {
        "colab": {
          "base_uri": "https://localhost:8080/",
          "height": 266
        },
        "id": "VhQ6P_zceEhe",
        "outputId": "cb567426-c0fd-4c88-9c01-d90994d8e283"
      },
      "execution_count": null,
      "outputs": [
        {
          "output_type": "execute_result",
          "data": {
            "text/plain": [
              "                                      Message-ID  \\\n",
              "0  <18782981.1075855378110.JavaMail.evans@thyme>   \n",
              "\n",
              "                                    Date                     From  \\\n",
              "0  Mon, 14 May 2001 16:39:00 -0700 (PDT)  phillip.allen@enron.com   \n",
              "\n",
              "                     To Subject Mime-Version                  Content-Type  \\\n",
              "0  tim.belden@enron.com                  1.0  text/plain; charset=us-ascii   \n",
              "\n",
              "  Content-Transfer-Encoding           X-From  \\\n",
              "0                      7bit  Phillip K Allen   \n",
              "\n",
              "                                       X-To X-cc X-bcc  \\\n",
              "0  Tim Belden <Tim Belden/Enron@EnronXGate>              \n",
              "\n",
              "                                            X-Folder X-Origin  \\\n",
              "0  \\Phillip_Allen_Jan2002_1\\Allen, Phillip K.\\'Se...  Allen-P   \n",
              "\n",
              "                    X-FileName                    content   Cc  Bcc  \n",
              "0  pallen (Non-Privileged).pst  Here is our forecast\\n\\n   NaN  NaN  "
            ],
            "text/html": [
              "\n",
              "  <div id=\"df-a1af3262-8773-420a-a366-c6a1a17726e1\">\n",
              "    <div class=\"colab-df-container\">\n",
              "      <div>\n",
              "<style scoped>\n",
              "    .dataframe tbody tr th:only-of-type {\n",
              "        vertical-align: middle;\n",
              "    }\n",
              "\n",
              "    .dataframe tbody tr th {\n",
              "        vertical-align: top;\n",
              "    }\n",
              "\n",
              "    .dataframe thead th {\n",
              "        text-align: right;\n",
              "    }\n",
              "</style>\n",
              "<table border=\"1\" class=\"dataframe\">\n",
              "  <thead>\n",
              "    <tr style=\"text-align: right;\">\n",
              "      <th></th>\n",
              "      <th>Message-ID</th>\n",
              "      <th>Date</th>\n",
              "      <th>From</th>\n",
              "      <th>To</th>\n",
              "      <th>Subject</th>\n",
              "      <th>Mime-Version</th>\n",
              "      <th>Content-Type</th>\n",
              "      <th>Content-Transfer-Encoding</th>\n",
              "      <th>X-From</th>\n",
              "      <th>X-To</th>\n",
              "      <th>X-cc</th>\n",
              "      <th>X-bcc</th>\n",
              "      <th>X-Folder</th>\n",
              "      <th>X-Origin</th>\n",
              "      <th>X-FileName</th>\n",
              "      <th>content</th>\n",
              "      <th>Cc</th>\n",
              "      <th>Bcc</th>\n",
              "    </tr>\n",
              "  </thead>\n",
              "  <tbody>\n",
              "    <tr>\n",
              "      <th>0</th>\n",
              "      <td>&lt;18782981.1075855378110.JavaMail.evans@thyme&gt;</td>\n",
              "      <td>Mon, 14 May 2001 16:39:00 -0700 (PDT)</td>\n",
              "      <td>phillip.allen@enron.com</td>\n",
              "      <td>tim.belden@enron.com</td>\n",
              "      <td></td>\n",
              "      <td>1.0</td>\n",
              "      <td>text/plain; charset=us-ascii</td>\n",
              "      <td>7bit</td>\n",
              "      <td>Phillip K Allen</td>\n",
              "      <td>Tim Belden &lt;Tim Belden/Enron@EnronXGate&gt;</td>\n",
              "      <td></td>\n",
              "      <td></td>\n",
              "      <td>\\Phillip_Allen_Jan2002_1\\Allen, Phillip K.\\'Se...</td>\n",
              "      <td>Allen-P</td>\n",
              "      <td>pallen (Non-Privileged).pst</td>\n",
              "      <td>Here is our forecast\\n\\n</td>\n",
              "      <td>NaN</td>\n",
              "      <td>NaN</td>\n",
              "    </tr>\n",
              "  </tbody>\n",
              "</table>\n",
              "</div>\n",
              "      <button class=\"colab-df-convert\" onclick=\"convertToInteractive('df-a1af3262-8773-420a-a366-c6a1a17726e1')\"\n",
              "              title=\"Convert this dataframe to an interactive table.\"\n",
              "              style=\"display:none;\">\n",
              "        \n",
              "  <svg xmlns=\"http://www.w3.org/2000/svg\" height=\"24px\"viewBox=\"0 0 24 24\"\n",
              "       width=\"24px\">\n",
              "    <path d=\"M0 0h24v24H0V0z\" fill=\"none\"/>\n",
              "    <path d=\"M18.56 5.44l.94 2.06.94-2.06 2.06-.94-2.06-.94-.94-2.06-.94 2.06-2.06.94zm-11 1L8.5 8.5l.94-2.06 2.06-.94-2.06-.94L8.5 2.5l-.94 2.06-2.06.94zm10 10l.94 2.06.94-2.06 2.06-.94-2.06-.94-.94-2.06-.94 2.06-2.06.94z\"/><path d=\"M17.41 7.96l-1.37-1.37c-.4-.4-.92-.59-1.43-.59-.52 0-1.04.2-1.43.59L10.3 9.45l-7.72 7.72c-.78.78-.78 2.05 0 2.83L4 21.41c.39.39.9.59 1.41.59.51 0 1.02-.2 1.41-.59l7.78-7.78 2.81-2.81c.8-.78.8-2.07 0-2.86zM5.41 20L4 18.59l7.72-7.72 1.47 1.35L5.41 20z\"/>\n",
              "  </svg>\n",
              "      </button>\n",
              "      \n",
              "  <style>\n",
              "    .colab-df-container {\n",
              "      display:flex;\n",
              "      flex-wrap:wrap;\n",
              "      gap: 12px;\n",
              "    }\n",
              "\n",
              "    .colab-df-convert {\n",
              "      background-color: #E8F0FE;\n",
              "      border: none;\n",
              "      border-radius: 50%;\n",
              "      cursor: pointer;\n",
              "      display: none;\n",
              "      fill: #1967D2;\n",
              "      height: 32px;\n",
              "      padding: 0 0 0 0;\n",
              "      width: 32px;\n",
              "    }\n",
              "\n",
              "    .colab-df-convert:hover {\n",
              "      background-color: #E2EBFA;\n",
              "      box-shadow: 0px 1px 2px rgba(60, 64, 67, 0.3), 0px 1px 3px 1px rgba(60, 64, 67, 0.15);\n",
              "      fill: #174EA6;\n",
              "    }\n",
              "\n",
              "    [theme=dark] .colab-df-convert {\n",
              "      background-color: #3B4455;\n",
              "      fill: #D2E3FC;\n",
              "    }\n",
              "\n",
              "    [theme=dark] .colab-df-convert:hover {\n",
              "      background-color: #434B5C;\n",
              "      box-shadow: 0px 1px 3px 1px rgba(0, 0, 0, 0.15);\n",
              "      filter: drop-shadow(0px 1px 2px rgba(0, 0, 0, 0.3));\n",
              "      fill: #FFFFFF;\n",
              "    }\n",
              "  </style>\n",
              "\n",
              "      <script>\n",
              "        const buttonEl =\n",
              "          document.querySelector('#df-a1af3262-8773-420a-a366-c6a1a17726e1 button.colab-df-convert');\n",
              "        buttonEl.style.display =\n",
              "          google.colab.kernel.accessAllowed ? 'block' : 'none';\n",
              "\n",
              "        async function convertToInteractive(key) {\n",
              "          const element = document.querySelector('#df-a1af3262-8773-420a-a366-c6a1a17726e1');\n",
              "          const dataTable =\n",
              "            await google.colab.kernel.invokeFunction('convertToInteractive',\n",
              "                                                     [key], {});\n",
              "          if (!dataTable) return;\n",
              "\n",
              "          const docLinkHtml = 'Like what you see? Visit the ' +\n",
              "            '<a target=\"_blank\" href=https://colab.research.google.com/notebooks/data_table.ipynb>data table notebook</a>'\n",
              "            + ' to learn more about interactive tables.';\n",
              "          element.innerHTML = '';\n",
              "          dataTable['output_type'] = 'display_data';\n",
              "          await google.colab.output.renderOutput(dataTable, element);\n",
              "          const docLink = document.createElement('div');\n",
              "          docLink.innerHTML = docLinkHtml;\n",
              "          element.appendChild(docLink);\n",
              "        }\n",
              "      </script>\n",
              "    </div>\n",
              "  </div>\n",
              "  "
            ]
          },
          "metadata": {},
          "execution_count": 18
        }
      ]
    },
    {
      "cell_type": "code",
      "source": [
        "email_parsed.dtypes"
      ],
      "metadata": {
        "colab": {
          "base_uri": "https://localhost:8080/"
        },
        "id": "tmAB-tZEFfun",
        "outputId": "55deae78-68ce-4a4c-8d1b-c11e33139d2b"
      },
      "execution_count": null,
      "outputs": [
        {
          "output_type": "execute_result",
          "data": {
            "text/plain": [
              "Message-ID                   object\n",
              "Date                         object\n",
              "From                         object\n",
              "To                           object\n",
              "Subject                      object\n",
              "Mime-Version                 object\n",
              "Content-Type                 object\n",
              "Content-Transfer-Encoding    object\n",
              "X-From                       object\n",
              "X-To                         object\n",
              "X-cc                         object\n",
              "X-bcc                        object\n",
              "X-Folder                     object\n",
              "X-Origin                     object\n",
              "X-FileName                   object\n",
              "content                      object\n",
              "Cc                           object\n",
              "Bcc                          object\n",
              "dtype: object"
            ]
          },
          "metadata": {},
          "execution_count": 19
        }
      ]
    },
    {
      "cell_type": "code",
      "source": [
        "email_parsed.info()"
      ],
      "metadata": {
        "colab": {
          "base_uri": "https://localhost:8080/"
        },
        "id": "ih572SbsPAcw",
        "outputId": "6fd82415-9ba7-4ec0-809e-0d59734b867a"
      },
      "execution_count": null,
      "outputs": [
        {
          "output_type": "stream",
          "name": "stdout",
          "text": [
            "<class 'pandas.core.frame.DataFrame'>\n",
            "RangeIndex: 126846 entries, 0 to 126845\n",
            "Data columns (total 18 columns):\n",
            " #   Column                     Non-Null Count   Dtype \n",
            "---  ------                     --------------   ----- \n",
            " 0   Message-ID                 126846 non-null  object\n",
            " 1   Date                       126846 non-null  object\n",
            " 2   From                       126846 non-null  object\n",
            " 3   To                         126472 non-null  object\n",
            " 4   Subject                    126846 non-null  object\n",
            " 5   Mime-Version               126846 non-null  object\n",
            " 6   Content-Type               126846 non-null  object\n",
            " 7   Content-Transfer-Encoding  126846 non-null  object\n",
            " 8   X-From                     126846 non-null  object\n",
            " 9   X-To                       126846 non-null  object\n",
            " 10  X-cc                       126846 non-null  object\n",
            " 11  X-bcc                      126846 non-null  object\n",
            " 12  X-Folder                   126846 non-null  object\n",
            " 13  X-Origin                   126846 non-null  object\n",
            " 14  X-FileName                 126846 non-null  object\n",
            " 15  content                    126846 non-null  object\n",
            " 16  Cc                         19546 non-null   object\n",
            " 17  Bcc                        19546 non-null   object\n",
            "dtypes: object(18)\n",
            "memory usage: 17.4+ MB\n"
          ]
        }
      ]
    },
    {
      "cell_type": "code",
      "source": [
        "# To construct a better text matrix we will remove numbers and stop words defined by nltk stopwords corpus\n",
        "\n",
        "def after_nltk( content, remove_stopwords=False ):\n",
        "    content = re.sub(\"[^a-zA-Z]\",\" \", content)\n",
        "    words = content.lower().split()\n",
        "    #basic text processing from CS506\n",
        "    if remove_stopwords:\n",
        "        stops = set(stopwords.words(\"english\"))\n",
        "        words = [w for w in words if not w in stops]\n",
        "\n",
        "    return ' '.join(words)"
      ],
      "metadata": {
        "id": "8MnvuqhNM5h0"
      },
      "execution_count": null,
      "outputs": []
    },
    {
      "cell_type": "code",
      "source": [
        "# Build the main data frame, consist of subject and content as those are the main text filed for us to analyze\n",
        "data = pd.DataFrame(list(map(after_nltk, \n",
        "                          email_parsed[['Subject', 'content']].apply(lambda x: ' '.join(x), axis=1))), \n",
        "                          columns = [\"content\"])"
      ],
      "metadata": {
        "id": "Rv3kbXQAM-M6"
      },
      "execution_count": null,
      "outputs": []
    },
    {
      "cell_type": "code",
      "source": [
        "# let's see how's the data look like\n",
        "data.head()"
      ],
      "metadata": {
        "colab": {
          "base_uri": "https://localhost:8080/",
          "height": 206
        },
        "id": "ZTpeFAdy8sA9",
        "outputId": "ab8796a4-e8be-4748-bbeb-66b85bba55ec"
      },
      "execution_count": null,
      "outputs": [
        {
          "output_type": "execute_result",
          "data": {
            "text/plain": [
              "                                             content\n",
              "0                               here is our forecast\n",
              "1  re traveling to have a business meeting takes ...\n",
              "2                  re test test successful way to go\n",
              "3  randy can you send me a schedule of the salary...\n",
              "4                re hello let s shoot for tuesday at"
            ],
            "text/html": [
              "\n",
              "  <div id=\"df-f2f395f7-e3bd-4c79-b041-1d4aa3f38608\">\n",
              "    <div class=\"colab-df-container\">\n",
              "      <div>\n",
              "<style scoped>\n",
              "    .dataframe tbody tr th:only-of-type {\n",
              "        vertical-align: middle;\n",
              "    }\n",
              "\n",
              "    .dataframe tbody tr th {\n",
              "        vertical-align: top;\n",
              "    }\n",
              "\n",
              "    .dataframe thead th {\n",
              "        text-align: right;\n",
              "    }\n",
              "</style>\n",
              "<table border=\"1\" class=\"dataframe\">\n",
              "  <thead>\n",
              "    <tr style=\"text-align: right;\">\n",
              "      <th></th>\n",
              "      <th>content</th>\n",
              "    </tr>\n",
              "  </thead>\n",
              "  <tbody>\n",
              "    <tr>\n",
              "      <th>0</th>\n",
              "      <td>here is our forecast</td>\n",
              "    </tr>\n",
              "    <tr>\n",
              "      <th>1</th>\n",
              "      <td>re traveling to have a business meeting takes ...</td>\n",
              "    </tr>\n",
              "    <tr>\n",
              "      <th>2</th>\n",
              "      <td>re test test successful way to go</td>\n",
              "    </tr>\n",
              "    <tr>\n",
              "      <th>3</th>\n",
              "      <td>randy can you send me a schedule of the salary...</td>\n",
              "    </tr>\n",
              "    <tr>\n",
              "      <th>4</th>\n",
              "      <td>re hello let s shoot for tuesday at</td>\n",
              "    </tr>\n",
              "  </tbody>\n",
              "</table>\n",
              "</div>\n",
              "      <button class=\"colab-df-convert\" onclick=\"convertToInteractive('df-f2f395f7-e3bd-4c79-b041-1d4aa3f38608')\"\n",
              "              title=\"Convert this dataframe to an interactive table.\"\n",
              "              style=\"display:none;\">\n",
              "        \n",
              "  <svg xmlns=\"http://www.w3.org/2000/svg\" height=\"24px\"viewBox=\"0 0 24 24\"\n",
              "       width=\"24px\">\n",
              "    <path d=\"M0 0h24v24H0V0z\" fill=\"none\"/>\n",
              "    <path d=\"M18.56 5.44l.94 2.06.94-2.06 2.06-.94-2.06-.94-.94-2.06-.94 2.06-2.06.94zm-11 1L8.5 8.5l.94-2.06 2.06-.94-2.06-.94L8.5 2.5l-.94 2.06-2.06.94zm10 10l.94 2.06.94-2.06 2.06-.94-2.06-.94-.94-2.06-.94 2.06-2.06.94z\"/><path d=\"M17.41 7.96l-1.37-1.37c-.4-.4-.92-.59-1.43-.59-.52 0-1.04.2-1.43.59L10.3 9.45l-7.72 7.72c-.78.78-.78 2.05 0 2.83L4 21.41c.39.39.9.59 1.41.59.51 0 1.02-.2 1.41-.59l7.78-7.78 2.81-2.81c.8-.78.8-2.07 0-2.86zM5.41 20L4 18.59l7.72-7.72 1.47 1.35L5.41 20z\"/>\n",
              "  </svg>\n",
              "      </button>\n",
              "      \n",
              "  <style>\n",
              "    .colab-df-container {\n",
              "      display:flex;\n",
              "      flex-wrap:wrap;\n",
              "      gap: 12px;\n",
              "    }\n",
              "\n",
              "    .colab-df-convert {\n",
              "      background-color: #E8F0FE;\n",
              "      border: none;\n",
              "      border-radius: 50%;\n",
              "      cursor: pointer;\n",
              "      display: none;\n",
              "      fill: #1967D2;\n",
              "      height: 32px;\n",
              "      padding: 0 0 0 0;\n",
              "      width: 32px;\n",
              "    }\n",
              "\n",
              "    .colab-df-convert:hover {\n",
              "      background-color: #E2EBFA;\n",
              "      box-shadow: 0px 1px 2px rgba(60, 64, 67, 0.3), 0px 1px 3px 1px rgba(60, 64, 67, 0.15);\n",
              "      fill: #174EA6;\n",
              "    }\n",
              "\n",
              "    [theme=dark] .colab-df-convert {\n",
              "      background-color: #3B4455;\n",
              "      fill: #D2E3FC;\n",
              "    }\n",
              "\n",
              "    [theme=dark] .colab-df-convert:hover {\n",
              "      background-color: #434B5C;\n",
              "      box-shadow: 0px 1px 3px 1px rgba(0, 0, 0, 0.15);\n",
              "      filter: drop-shadow(0px 1px 2px rgba(0, 0, 0, 0.3));\n",
              "      fill: #FFFFFF;\n",
              "    }\n",
              "  </style>\n",
              "\n",
              "      <script>\n",
              "        const buttonEl =\n",
              "          document.querySelector('#df-f2f395f7-e3bd-4c79-b041-1d4aa3f38608 button.colab-df-convert');\n",
              "        buttonEl.style.display =\n",
              "          google.colab.kernel.accessAllowed ? 'block' : 'none';\n",
              "\n",
              "        async function convertToInteractive(key) {\n",
              "          const element = document.querySelector('#df-f2f395f7-e3bd-4c79-b041-1d4aa3f38608');\n",
              "          const dataTable =\n",
              "            await google.colab.kernel.invokeFunction('convertToInteractive',\n",
              "                                                     [key], {});\n",
              "          if (!dataTable) return;\n",
              "\n",
              "          const docLinkHtml = 'Like what you see? Visit the ' +\n",
              "            '<a target=\"_blank\" href=https://colab.research.google.com/notebooks/data_table.ipynb>data table notebook</a>'\n",
              "            + ' to learn more about interactive tables.';\n",
              "          element.innerHTML = '';\n",
              "          dataTable['output_type'] = 'display_data';\n",
              "          await google.colab.output.renderOutput(dataTable, element);\n",
              "          const docLink = document.createElement('div');\n",
              "          docLink.innerHTML = docLinkHtml;\n",
              "          element.appendChild(docLink);\n",
              "        }\n",
              "      </script>\n",
              "    </div>\n",
              "  </div>\n",
              "  "
            ]
          },
          "metadata": {},
          "execution_count": 23
        }
      ]
    },
    {
      "cell_type": "code",
      "source": [
        "# we now map the dataframe with sender list therefore we can train the data and analyze email's sender\n",
        "data = data.assign(sender=email_sent[\"sender\"].values)\n",
        "data = data.replace({'sender': mapping})\n",
        "data.head()"
      ],
      "metadata": {
        "id": "03_UUztmNOZk",
        "colab": {
          "base_uri": "https://localhost:8080/",
          "height": 206
        },
        "outputId": "07b8e3a6-7b04-4c46-ed96-f64ec73be156"
      },
      "execution_count": null,
      "outputs": [
        {
          "output_type": "execute_result",
          "data": {
            "text/plain": [
              "                                             content   sender\n",
              "0                               here is our forecast  allen-p\n",
              "1  re traveling to have a business meeting takes ...  allen-p\n",
              "2                  re test test successful way to go  allen-p\n",
              "3  randy can you send me a schedule of the salary...  allen-p\n",
              "4                re hello let s shoot for tuesday at  allen-p"
            ],
            "text/html": [
              "\n",
              "  <div id=\"df-42fe537b-80e0-4c50-8ced-7c7e769c6043\">\n",
              "    <div class=\"colab-df-container\">\n",
              "      <div>\n",
              "<style scoped>\n",
              "    .dataframe tbody tr th:only-of-type {\n",
              "        vertical-align: middle;\n",
              "    }\n",
              "\n",
              "    .dataframe tbody tr th {\n",
              "        vertical-align: top;\n",
              "    }\n",
              "\n",
              "    .dataframe thead th {\n",
              "        text-align: right;\n",
              "    }\n",
              "</style>\n",
              "<table border=\"1\" class=\"dataframe\">\n",
              "  <thead>\n",
              "    <tr style=\"text-align: right;\">\n",
              "      <th></th>\n",
              "      <th>content</th>\n",
              "      <th>sender</th>\n",
              "    </tr>\n",
              "  </thead>\n",
              "  <tbody>\n",
              "    <tr>\n",
              "      <th>0</th>\n",
              "      <td>here is our forecast</td>\n",
              "      <td>allen-p</td>\n",
              "    </tr>\n",
              "    <tr>\n",
              "      <th>1</th>\n",
              "      <td>re traveling to have a business meeting takes ...</td>\n",
              "      <td>allen-p</td>\n",
              "    </tr>\n",
              "    <tr>\n",
              "      <th>2</th>\n",
              "      <td>re test test successful way to go</td>\n",
              "      <td>allen-p</td>\n",
              "    </tr>\n",
              "    <tr>\n",
              "      <th>3</th>\n",
              "      <td>randy can you send me a schedule of the salary...</td>\n",
              "      <td>allen-p</td>\n",
              "    </tr>\n",
              "    <tr>\n",
              "      <th>4</th>\n",
              "      <td>re hello let s shoot for tuesday at</td>\n",
              "      <td>allen-p</td>\n",
              "    </tr>\n",
              "  </tbody>\n",
              "</table>\n",
              "</div>\n",
              "      <button class=\"colab-df-convert\" onclick=\"convertToInteractive('df-42fe537b-80e0-4c50-8ced-7c7e769c6043')\"\n",
              "              title=\"Convert this dataframe to an interactive table.\"\n",
              "              style=\"display:none;\">\n",
              "        \n",
              "  <svg xmlns=\"http://www.w3.org/2000/svg\" height=\"24px\"viewBox=\"0 0 24 24\"\n",
              "       width=\"24px\">\n",
              "    <path d=\"M0 0h24v24H0V0z\" fill=\"none\"/>\n",
              "    <path d=\"M18.56 5.44l.94 2.06.94-2.06 2.06-.94-2.06-.94-.94-2.06-.94 2.06-2.06.94zm-11 1L8.5 8.5l.94-2.06 2.06-.94-2.06-.94L8.5 2.5l-.94 2.06-2.06.94zm10 10l.94 2.06.94-2.06 2.06-.94-2.06-.94-.94-2.06-.94 2.06-2.06.94z\"/><path d=\"M17.41 7.96l-1.37-1.37c-.4-.4-.92-.59-1.43-.59-.52 0-1.04.2-1.43.59L10.3 9.45l-7.72 7.72c-.78.78-.78 2.05 0 2.83L4 21.41c.39.39.9.59 1.41.59.51 0 1.02-.2 1.41-.59l7.78-7.78 2.81-2.81c.8-.78.8-2.07 0-2.86zM5.41 20L4 18.59l7.72-7.72 1.47 1.35L5.41 20z\"/>\n",
              "  </svg>\n",
              "      </button>\n",
              "      \n",
              "  <style>\n",
              "    .colab-df-container {\n",
              "      display:flex;\n",
              "      flex-wrap:wrap;\n",
              "      gap: 12px;\n",
              "    }\n",
              "\n",
              "    .colab-df-convert {\n",
              "      background-color: #E8F0FE;\n",
              "      border: none;\n",
              "      border-radius: 50%;\n",
              "      cursor: pointer;\n",
              "      display: none;\n",
              "      fill: #1967D2;\n",
              "      height: 32px;\n",
              "      padding: 0 0 0 0;\n",
              "      width: 32px;\n",
              "    }\n",
              "\n",
              "    .colab-df-convert:hover {\n",
              "      background-color: #E2EBFA;\n",
              "      box-shadow: 0px 1px 2px rgba(60, 64, 67, 0.3), 0px 1px 3px 1px rgba(60, 64, 67, 0.15);\n",
              "      fill: #174EA6;\n",
              "    }\n",
              "\n",
              "    [theme=dark] .colab-df-convert {\n",
              "      background-color: #3B4455;\n",
              "      fill: #D2E3FC;\n",
              "    }\n",
              "\n",
              "    [theme=dark] .colab-df-convert:hover {\n",
              "      background-color: #434B5C;\n",
              "      box-shadow: 0px 1px 3px 1px rgba(0, 0, 0, 0.15);\n",
              "      filter: drop-shadow(0px 1px 2px rgba(0, 0, 0, 0.3));\n",
              "      fill: #FFFFFF;\n",
              "    }\n",
              "  </style>\n",
              "\n",
              "      <script>\n",
              "        const buttonEl =\n",
              "          document.querySelector('#df-42fe537b-80e0-4c50-8ced-7c7e769c6043 button.colab-df-convert');\n",
              "        buttonEl.style.display =\n",
              "          google.colab.kernel.accessAllowed ? 'block' : 'none';\n",
              "\n",
              "        async function convertToInteractive(key) {\n",
              "          const element = document.querySelector('#df-42fe537b-80e0-4c50-8ced-7c7e769c6043');\n",
              "          const dataTable =\n",
              "            await google.colab.kernel.invokeFunction('convertToInteractive',\n",
              "                                                     [key], {});\n",
              "          if (!dataTable) return;\n",
              "\n",
              "          const docLinkHtml = 'Like what you see? Visit the ' +\n",
              "            '<a target=\"_blank\" href=https://colab.research.google.com/notebooks/data_table.ipynb>data table notebook</a>'\n",
              "            + ' to learn more about interactive tables.';\n",
              "          element.innerHTML = '';\n",
              "          dataTable['output_type'] = 'display_data';\n",
              "          await google.colab.output.renderOutput(dataTable, element);\n",
              "          const docLink = document.createElement('div');\n",
              "          docLink.innerHTML = docLinkHtml;\n",
              "          element.appendChild(docLink);\n",
              "        }\n",
              "      </script>\n",
              "    </div>\n",
              "  </div>\n",
              "  "
            ]
          },
          "metadata": {},
          "execution_count": 24
        }
      ]
    },
    {
      "cell_type": "code",
      "source": [
        "# train test split library gives unexpected integer output, therefore implementing split algo by myself\n",
        "x_train = []\n",
        "x_test = []\n",
        "y_train = []\n",
        "y_test = []\n",
        "for i in range(len(data)):\n",
        "  s = np.random.uniform(0,1)\n",
        "  #print(s)\n",
        "  if s >= 0.3:\n",
        "    x_train.append(data.content[i])\n",
        "    y_train.append(data.sender[i])\n",
        "  else:\n",
        "    x_test.append(data.content[i])\n",
        "    y_test.append(data.sender[i])"
      ],
      "metadata": {
        "id": "a8QAw-Iy3324"
      },
      "execution_count": null,
      "outputs": []
    },
    {
      "cell_type": "code",
      "source": [
        "len(x_train)"
      ],
      "metadata": {
        "colab": {
          "base_uri": "https://localhost:8080/"
        },
        "id": "fhPAO-VhFwzr",
        "outputId": "bfaa50b6-97e0-4c16-a097-2fe33f619480"
      },
      "execution_count": null,
      "outputs": [
        {
          "output_type": "execute_result",
          "data": {
            "text/plain": [
              "88804"
            ]
          },
          "metadata": {},
          "execution_count": 26
        }
      ]
    },
    {
      "cell_type": "code",
      "source": [
        "len(x_test)"
      ],
      "metadata": {
        "colab": {
          "base_uri": "https://localhost:8080/"
        },
        "id": "hUDE1bBjZafi",
        "outputId": "25acae44-dfc5-45df-d6e3-94a1ff02b06e"
      },
      "execution_count": null,
      "outputs": [
        {
          "output_type": "execute_result",
          "data": {
            "text/plain": [
              "38042"
            ]
          },
          "metadata": {},
          "execution_count": 27
        }
      ]
    },
    {
      "cell_type": "code",
      "source": [
        "len(y_train)"
      ],
      "metadata": {
        "colab": {
          "base_uri": "https://localhost:8080/"
        },
        "id": "90n-F91497pY",
        "outputId": "dbb9866f-895f-4577-c110-29bea7b49d6d"
      },
      "execution_count": null,
      "outputs": [
        {
          "output_type": "execute_result",
          "data": {
            "text/plain": [
              "88804"
            ]
          },
          "metadata": {},
          "execution_count": 28
        }
      ]
    },
    {
      "cell_type": "markdown",
      "source": [
        "Starting from here we finished data processing and move on to model fitting, the first model we choose is Naive Bayes model"
      ],
      "metadata": {
        "id": "X32oQ0dL_CS9"
      }
    },
    {
      "cell_type": "code",
      "source": [
        "# Build the model\n",
        "model = make_pipeline(TfidfVectorizer(), MultinomialNB())\n",
        "# Train the model using the training data\n",
        "model.fit(x_train, y_train)\n",
        "# Predict the categories of the test data\n",
        "predicted_senders = model.predict(x_test)"
      ],
      "metadata": {
        "id": "W15PuvJuTO7R"
      },
      "execution_count": null,
      "outputs": []
    },
    {
      "cell_type": "code",
      "source": [
        "#calculate the accuracy\n",
        "print(\"The accuracy is {}\".format(accuracy_score(y_test, predicted_senders)))"
      ],
      "metadata": {
        "id": "VpVeazQ0BDPi",
        "colab": {
          "base_uri": "https://localhost:8080/"
        },
        "outputId": "68c5ef65-e9c8-4bc6-f1aa-c538af1901c7"
      },
      "execution_count": null,
      "outputs": [
        {
          "output_type": "stream",
          "name": "stdout",
          "text": [
            "The accuracy is 0.3073445139582567\n"
          ]
        }
      ]
    },
    {
      "cell_type": "code",
      "source": [
        "print(classification_report(y_test, predicted_senders))"
      ],
      "metadata": {
        "colab": {
          "base_uri": "https://localhost:8080/"
        },
        "id": "LwUlRyWtfyo4",
        "outputId": "9c357bae-9db0-4e4e-8340-0032fbb0b023"
      },
      "execution_count": null,
      "outputs": [
        {
          "output_type": "stream",
          "name": "stderr",
          "text": [
            "/usr/local/lib/python3.7/dist-packages/sklearn/metrics/_classification.py:1318: UndefinedMetricWarning: Precision and F-score are ill-defined and being set to 0.0 in labels with no predicted samples. Use `zero_division` parameter to control this behavior.\n",
            "  _warn_prf(average, modifier, msg_start, len(result))\n",
            "/usr/local/lib/python3.7/dist-packages/sklearn/metrics/_classification.py:1318: UndefinedMetricWarning: Precision and F-score are ill-defined and being set to 0.0 in labels with no predicted samples. Use `zero_division` parameter to control this behavior.\n",
            "  _warn_prf(average, modifier, msg_start, len(result))\n"
          ]
        },
        {
          "output_type": "stream",
          "name": "stdout",
          "text": [
            "                           precision    recall  f1-score   support\n",
            "\n",
            "                        0       0.17      0.99      0.29      2710\n",
            "                        1       0.18      0.99      0.31      2568\n",
            "                       10       0.90      0.02      0.05       783\n",
            "                       11       1.00      0.01      0.01       741\n",
            "                       12       0.91      0.17      0.29       722\n",
            "                       13       0.92      0.07      0.13       693\n",
            "                       14       0.98      0.75      0.85       680\n",
            "                        2       0.66      0.78      0.72      1643\n",
            "                        3       0.71      0.73      0.72      1526\n",
            "                        4       0.75      0.67      0.71      1339\n",
            "                        5       0.83      0.51      0.63      1253\n",
            "                        6       0.88      0.37      0.52       924\n",
            "                        7       0.94      0.15      0.26       792\n",
            "                        8       0.86      0.14      0.24       769\n",
            "                        9       0.93      0.69      0.79       784\n",
            "                  allen-p       1.00      0.00      0.01       456\n",
            "                  arora-h       0.00      0.00      0.00        23\n",
            "                 badeer-r       0.00      0.00      0.00        13\n",
            "                 bailey-s       0.00      0.00      0.00         5\n",
            "               baughman-d       0.00      0.00      0.00        22\n",
            "                 benson-r       0.00      0.00      0.00         8\n",
            "                  blair-l       0.75      0.06      0.12       287\n",
            "    blair-l/deleted_items       0.00      0.00      0.00        14\n",
            "                brawner-s       0.00      0.00      0.00       111\n",
            "                    buy-r       0.00      0.00      0.00       206\n",
            "               campbell-l       0.00      0.00      0.00       220\n",
            "                 carson-m       0.00      0.00      0.00       121\n",
            "                   cash-m       0.00      0.00      0.00       348\n",
            "              causholli-m       0.00      0.00      0.00        76\n",
            "                 corman-s       0.00      0.00      0.00       175\n",
            "               crandell-s       0.00      0.00      0.00        42\n",
            "                 cuilla-m       0.00      0.00      0.00        39\n",
            "                  davis-d       0.00      0.00      0.00       101\n",
            "                   dean-c       0.00      0.00      0.00        13\n",
            "               delainey-d       1.00      0.02      0.05       546\n",
            "                derrick-j       0.00      0.00      0.00       200\n",
            "                dickson-s       0.00      0.00      0.00        64\n",
            "                 donoho-l       0.00      0.00      0.00        76\n",
            "                donohoe-t       0.00      0.00      0.00        13\n",
            "                dorland-c       0.00      0.00      0.00       342\n",
            "                  ermis-f       0.00      0.00      0.00        12\n",
            "                 farmer-d       1.00      0.24      0.39       498\n",
            "                fischer-m       0.00      0.00      0.00        35\n",
            "                 forney-j       0.00      0.00      0.00       150\n",
            "                 fossum-d       0.78      0.36      0.49       610\n",
            "                   gang-l       0.00      0.00      0.00        25\n",
            "                    gay-r       0.00      0.00      0.00       181\n",
            "               geaccone-t       0.00      0.00      0.00       171\n",
            "           gilbertsmith-d       0.00      0.00      0.00         3\n",
            "                  giron-d       0.85      0.25      0.38       580\n",
            "               griffith-j       0.00      0.00      0.00        15\n",
            "                grigsby-m       0.00      0.00      0.00       259\n",
            "                 guzman-m       0.00      0.00      0.00        99\n",
            "               haedicke-m       0.00      0.00      0.00       340\n",
            "                   hain-m       0.00      0.00      0.00       100\n",
            "               hayslett-r       0.00      0.00      0.00       182\n",
            "          hayslett-r/hold       0.00      0.00      0.00         3\n",
            "                  heard-m       0.00      0.00      0.00       235\n",
            "            hendrickson-s       0.00      0.00      0.00        38\n",
            "              hernandez-j       1.00      0.05      0.10       170\n",
            "                  hodge-j       0.00      0.00      0.00        49\n",
            "                  holst-k       0.00      0.00      0.00        11\n",
            "                 horton-s       0.00      0.00      0.00       235\n",
            "   horton-s/deleted_items       0.00      0.00      0.00        28\n",
            "                  hyatt-k       0.00      0.00      0.00        91\n",
            "                   hyvl-d       0.00      0.00      0.00       190\n",
            "                   kean-s       0.83      0.01      0.02       544\n",
            "                 keavey-p       0.00      0.00      0.00        48\n",
            "                 keiser-k       0.00      0.00      0.00       113\n",
            "                   king-j       0.00      0.00      0.00         2\n",
            "                kitchen-l       1.00      0.02      0.04       363\n",
            "             kuykendall-t       0.00      0.00      0.00       145\n",
            "               lavorato-j       0.88      0.01      0.02       556\n",
            "                    lay-k       0.00      0.00      0.00       161\n",
            "                  lewis-a       0.00      0.00      0.00        20\n",
            "                 linder-e       0.00      0.00      0.00         1\n",
            "                  lokay-m       0.00      0.00      0.00        97\n",
            "                  lokey-t       0.00      0.00      0.00        51\n",
            "                  lucci-p       0.00      0.00      0.00        81\n",
            "                  maggi-m       0.00      0.00      0.00        43\n",
            "                 martin-t       0.00      0.00      0.00        74\n",
            "                    may-l       0.00      0.00      0.00        26\n",
            "                mccarty-d       0.00      0.00      0.00        49\n",
            "              mcconnell-m       1.00      0.00      0.00       528\n",
            "                  mckay-b       0.00      0.00      0.00        46\n",
            "                  mckay-j       0.00      0.00      0.00        99\n",
            "             mclaughlin-e       1.00      0.01      0.02       203\n",
            "                 meyers-a       0.00      0.00      0.00         4\n",
            "          mims-thurston-p       0.00      0.00      0.00       223\n",
            "                 motley-m       0.00      0.00      0.00         4\n",
            "                   neal-s       1.00      0.00      0.01       356\n",
            "                  nemec-g       0.75      0.03      0.05       659\n",
            "                  panus-s       0.00      0.00      0.00         9\n",
            "                  parks-j       1.00      0.01      0.02       160\n",
            "                pereira-s       0.00      0.00      0.00        96\n",
            "                 phanis-s       0.00      0.00      0.00         1\n",
            "                pimenov-v       0.00      0.00      0.00        27\n",
            "                platter-p       0.00      0.00      0.00        37\n",
            "                 presto-k       0.00      0.00      0.00       280\n",
            "                 quenet-j       0.00      0.00      0.00        38\n",
            "                quigley-d       0.00      0.00      0.00       144\n",
            "                   rapp-b       0.00      0.00      0.00        39\n",
            "              reitmeyer-j       0.00      0.00      0.00        18\n",
            "                 richey-c       0.00      0.00      0.00       110\n",
            "                   ring-a       0.00      0.00      0.00        82\n",
            "                   ring-r       0.00      0.00      0.00        16\n",
            "               rodrique-r       0.99      0.19      0.31       435\n",
            "                 rogers-b       1.00      0.02      0.03       540\n",
            "               ruscitti-k       0.00      0.00      0.00       122\n",
            "                  sager-e       1.00      0.01      0.02       462\n",
            "                  saibi-e       0.00      0.00      0.00        18\n",
            "              salisbury-h       0.00      0.00      0.00        46\n",
            "                sanchez-m       0.00      0.00      0.00        28\n",
            "                sanders-r       1.00      0.03      0.06       601\n",
            "               scholtes-d       0.00      0.00      0.00        32\n",
            "scholtes-d/diana_scholtes       0.00      0.00      0.00        35\n",
            "            schoolcraft-d       1.00      0.07      0.12       182\n",
            "              schwieger-j       0.00      0.00      0.00        40\n",
            "              semperger-c       0.00      0.00      0.00        80\n",
            "               shankman-j       0.00      0.00      0.00       333\n",
            "                shapiro-r       0.00      0.00      0.00         1\n",
            "                shively-h       0.00      0.00      0.00       225\n",
            "               skilling-j       0.00      0.00      0.00       160\n",
            "                slinger-r       0.00      0.00      0.00        15\n",
            "                  smith-m       1.00      0.00      0.01       225\n",
            "                solberg-g       0.00      0.00      0.00        18\n",
            "                  south-s       0.00      0.00      0.00        13\n",
            "                  staab-t       0.00      0.00      0.00        32\n",
            "                stclair-c       0.83      0.01      0.03       371\n",
            "                steffes-j       0.00      0.00      0.00       415\n",
            "           stepenovitch-j       0.00      0.00      0.00        23\n",
            "  stokley-c/chris_stokley       0.00      0.00      0.00       141\n",
            "                 storey-g       0.00      0.00      0.00        48\n",
            "                  sturm-f       0.00      0.00      0.00       113\n",
            "               swerzbin-m       0.00      0.00      0.00        24\n",
            "                  tholt-j       0.00      0.00      0.00       208\n",
            "                 thomas-p       0.00      0.00      0.00        49\n",
            "               townsend-j       0.00      0.00      0.00        24\n",
            "               tycholiz-b       0.00      0.00      0.00       153\n",
            "                   ward-k       0.00      0.00      0.00       292\n",
            "                 watson-k       0.59      0.08      0.15       284\n",
            "                 weldon-c       0.00      0.00      0.00       124\n",
            "                whalley-g       0.00      0.00      0.00        40\n",
            "                whalley-l       0.00      0.00      0.00       117\n",
            "                  white-s       0.00      0.00      0.00       134\n",
            "                  whitt-m       0.00      0.00      0.00        75\n",
            "               williams-j       0.00      0.00      0.00        27\n",
            "              williams-w3       0.00      0.00      0.00       161\n",
            "                  wolfe-j       0.00      0.00      0.00        19\n",
            "                 ybarbo-p       0.00      0.00      0.00        40\n",
            "                 zipper-a       0.00      0.00      0.00       101\n",
            "               zufferli-j       0.00      0.00      0.00       105\n",
            "\n",
            "                 accuracy                           0.31     38042\n",
            "                macro avg       0.22      0.06      0.06     38042\n",
            "             weighted avg       0.53      0.31      0.24     38042\n",
            "\n"
          ]
        },
        {
          "output_type": "stream",
          "name": "stderr",
          "text": [
            "/usr/local/lib/python3.7/dist-packages/sklearn/metrics/_classification.py:1318: UndefinedMetricWarning: Precision and F-score are ill-defined and being set to 0.0 in labels with no predicted samples. Use `zero_division` parameter to control this behavior.\n",
            "  _warn_prf(average, modifier, msg_start, len(result))\n"
          ]
        }
      ]
    },
    {
      "cell_type": "markdown",
      "source": [
        "Next we fit the parameters for linear SVM"
      ],
      "metadata": {
        "id": "92xhLLNsTQt3"
      }
    },
    {
      "cell_type": "code",
      "source": [
        "# Since it's text data we will vectorize our content\n",
        "#from sklearn.feature_extraction.text import CountVectorizer\n",
        "vector = TfidfVectorizer(sublinear_tf=True, use_idf=True)\n",
        "X_train = vector.fit_transform(x_train)\n",
        "X_test = vector.transform(x_test)"
      ],
      "metadata": {
        "id": "gfZqfkSN9pHs"
      },
      "execution_count": null,
      "outputs": []
    },
    {
      "cell_type": "code",
      "source": [
        "tsvd = TruncatedSVD(n_components = 120)\n",
        "X_train_pca = tsvd.fit_transform(X_train)\n",
        "X_test_pca = tsvd.transform(X_test)\n",
        "\n",
        "clf = LinearSVC()\n",
        "clf.fit(X_train_pca, y_train)\n",
        "\n",
        "print(metrics.accuracy_score(y_test, clf.predict(X_test_pca)))"
      ],
      "metadata": {
        "colab": {
          "base_uri": "https://localhost:8080/"
        },
        "id": "j2mQcvltVhls",
        "outputId": "0e359691-3178-4ba3-900e-28bf2317abcb"
      },
      "execution_count": null,
      "outputs": [
        {
          "output_type": "stream",
          "name": "stdout",
          "text": [
            "0.698885442405762\n"
          ]
        }
      ]
    },
    {
      "cell_type": "code",
      "source": [
        "df = pd.DataFrame({'Actual': y_test, 'Predicted':clf.predict(X_test_pca)})\n",
        "df"
      ],
      "metadata": {
        "colab": {
          "base_uri": "https://localhost:8080/",
          "height": 424
        },
        "id": "CRoHdmfQiLIu",
        "outputId": "87da79e6-bcfc-4299-e6b7-6b5ac4e9f134"
      },
      "execution_count": null,
      "outputs": [
        {
          "output_type": "execute_result",
          "data": {
            "text/plain": [
              "           Actual    Predicted\n",
              "0         allen-p  mcconnell-m\n",
              "1         allen-p      allen-p\n",
              "2         allen-p      nemec-g\n",
              "3         allen-p            3\n",
              "4         allen-p      allen-p\n",
              "...           ...          ...\n",
              "38037  zufferli-j    derrick-j\n",
              "38038  zufferli-j   lavorato-j\n",
              "38039  zufferli-j      white-s\n",
              "38040  zufferli-j           13\n",
              "38041  zufferli-j   rodrique-r\n",
              "\n",
              "[38042 rows x 2 columns]"
            ],
            "text/html": [
              "\n",
              "  <div id=\"df-f5fda9af-cace-489d-8210-d7ae9552c305\">\n",
              "    <div class=\"colab-df-container\">\n",
              "      <div>\n",
              "<style scoped>\n",
              "    .dataframe tbody tr th:only-of-type {\n",
              "        vertical-align: middle;\n",
              "    }\n",
              "\n",
              "    .dataframe tbody tr th {\n",
              "        vertical-align: top;\n",
              "    }\n",
              "\n",
              "    .dataframe thead th {\n",
              "        text-align: right;\n",
              "    }\n",
              "</style>\n",
              "<table border=\"1\" class=\"dataframe\">\n",
              "  <thead>\n",
              "    <tr style=\"text-align: right;\">\n",
              "      <th></th>\n",
              "      <th>Actual</th>\n",
              "      <th>Predicted</th>\n",
              "    </tr>\n",
              "  </thead>\n",
              "  <tbody>\n",
              "    <tr>\n",
              "      <th>0</th>\n",
              "      <td>allen-p</td>\n",
              "      <td>mcconnell-m</td>\n",
              "    </tr>\n",
              "    <tr>\n",
              "      <th>1</th>\n",
              "      <td>allen-p</td>\n",
              "      <td>allen-p</td>\n",
              "    </tr>\n",
              "    <tr>\n",
              "      <th>2</th>\n",
              "      <td>allen-p</td>\n",
              "      <td>nemec-g</td>\n",
              "    </tr>\n",
              "    <tr>\n",
              "      <th>3</th>\n",
              "      <td>allen-p</td>\n",
              "      <td>3</td>\n",
              "    </tr>\n",
              "    <tr>\n",
              "      <th>4</th>\n",
              "      <td>allen-p</td>\n",
              "      <td>allen-p</td>\n",
              "    </tr>\n",
              "    <tr>\n",
              "      <th>...</th>\n",
              "      <td>...</td>\n",
              "      <td>...</td>\n",
              "    </tr>\n",
              "    <tr>\n",
              "      <th>38037</th>\n",
              "      <td>zufferli-j</td>\n",
              "      <td>derrick-j</td>\n",
              "    </tr>\n",
              "    <tr>\n",
              "      <th>38038</th>\n",
              "      <td>zufferli-j</td>\n",
              "      <td>lavorato-j</td>\n",
              "    </tr>\n",
              "    <tr>\n",
              "      <th>38039</th>\n",
              "      <td>zufferli-j</td>\n",
              "      <td>white-s</td>\n",
              "    </tr>\n",
              "    <tr>\n",
              "      <th>38040</th>\n",
              "      <td>zufferli-j</td>\n",
              "      <td>13</td>\n",
              "    </tr>\n",
              "    <tr>\n",
              "      <th>38041</th>\n",
              "      <td>zufferli-j</td>\n",
              "      <td>rodrique-r</td>\n",
              "    </tr>\n",
              "  </tbody>\n",
              "</table>\n",
              "<p>38042 rows × 2 columns</p>\n",
              "</div>\n",
              "      <button class=\"colab-df-convert\" onclick=\"convertToInteractive('df-f5fda9af-cace-489d-8210-d7ae9552c305')\"\n",
              "              title=\"Convert this dataframe to an interactive table.\"\n",
              "              style=\"display:none;\">\n",
              "        \n",
              "  <svg xmlns=\"http://www.w3.org/2000/svg\" height=\"24px\"viewBox=\"0 0 24 24\"\n",
              "       width=\"24px\">\n",
              "    <path d=\"M0 0h24v24H0V0z\" fill=\"none\"/>\n",
              "    <path d=\"M18.56 5.44l.94 2.06.94-2.06 2.06-.94-2.06-.94-.94-2.06-.94 2.06-2.06.94zm-11 1L8.5 8.5l.94-2.06 2.06-.94-2.06-.94L8.5 2.5l-.94 2.06-2.06.94zm10 10l.94 2.06.94-2.06 2.06-.94-2.06-.94-.94-2.06-.94 2.06-2.06.94z\"/><path d=\"M17.41 7.96l-1.37-1.37c-.4-.4-.92-.59-1.43-.59-.52 0-1.04.2-1.43.59L10.3 9.45l-7.72 7.72c-.78.78-.78 2.05 0 2.83L4 21.41c.39.39.9.59 1.41.59.51 0 1.02-.2 1.41-.59l7.78-7.78 2.81-2.81c.8-.78.8-2.07 0-2.86zM5.41 20L4 18.59l7.72-7.72 1.47 1.35L5.41 20z\"/>\n",
              "  </svg>\n",
              "      </button>\n",
              "      \n",
              "  <style>\n",
              "    .colab-df-container {\n",
              "      display:flex;\n",
              "      flex-wrap:wrap;\n",
              "      gap: 12px;\n",
              "    }\n",
              "\n",
              "    .colab-df-convert {\n",
              "      background-color: #E8F0FE;\n",
              "      border: none;\n",
              "      border-radius: 50%;\n",
              "      cursor: pointer;\n",
              "      display: none;\n",
              "      fill: #1967D2;\n",
              "      height: 32px;\n",
              "      padding: 0 0 0 0;\n",
              "      width: 32px;\n",
              "    }\n",
              "\n",
              "    .colab-df-convert:hover {\n",
              "      background-color: #E2EBFA;\n",
              "      box-shadow: 0px 1px 2px rgba(60, 64, 67, 0.3), 0px 1px 3px 1px rgba(60, 64, 67, 0.15);\n",
              "      fill: #174EA6;\n",
              "    }\n",
              "\n",
              "    [theme=dark] .colab-df-convert {\n",
              "      background-color: #3B4455;\n",
              "      fill: #D2E3FC;\n",
              "    }\n",
              "\n",
              "    [theme=dark] .colab-df-convert:hover {\n",
              "      background-color: #434B5C;\n",
              "      box-shadow: 0px 1px 3px 1px rgba(0, 0, 0, 0.15);\n",
              "      filter: drop-shadow(0px 1px 2px rgba(0, 0, 0, 0.3));\n",
              "      fill: #FFFFFF;\n",
              "    }\n",
              "  </style>\n",
              "\n",
              "      <script>\n",
              "        const buttonEl =\n",
              "          document.querySelector('#df-f5fda9af-cace-489d-8210-d7ae9552c305 button.colab-df-convert');\n",
              "        buttonEl.style.display =\n",
              "          google.colab.kernel.accessAllowed ? 'block' : 'none';\n",
              "\n",
              "        async function convertToInteractive(key) {\n",
              "          const element = document.querySelector('#df-f5fda9af-cace-489d-8210-d7ae9552c305');\n",
              "          const dataTable =\n",
              "            await google.colab.kernel.invokeFunction('convertToInteractive',\n",
              "                                                     [key], {});\n",
              "          if (!dataTable) return;\n",
              "\n",
              "          const docLinkHtml = 'Like what you see? Visit the ' +\n",
              "            '<a target=\"_blank\" href=https://colab.research.google.com/notebooks/data_table.ipynb>data table notebook</a>'\n",
              "            + ' to learn more about interactive tables.';\n",
              "          element.innerHTML = '';\n",
              "          dataTable['output_type'] = 'display_data';\n",
              "          await google.colab.output.renderOutput(dataTable, element);\n",
              "          const docLink = document.createElement('div');\n",
              "          docLink.innerHTML = docLinkHtml;\n",
              "          element.appendChild(docLink);\n",
              "        }\n",
              "      </script>\n",
              "    </div>\n",
              "  </div>\n",
              "  "
            ]
          },
          "metadata": {},
          "execution_count": 34
        }
      ]
    },
    {
      "cell_type": "code",
      "source": [
        "print(classification_report(y_test, clf.predict(X_test_pca)))"
      ],
      "metadata": {
        "colab": {
          "base_uri": "https://localhost:8080/"
        },
        "id": "-JiD7PxadUuo",
        "outputId": "28420feb-1d30-4c51-83f6-80fe2ddd1850"
      },
      "execution_count": null,
      "outputs": [
        {
          "output_type": "stream",
          "name": "stderr",
          "text": [
            "/usr/local/lib/python3.7/dist-packages/sklearn/metrics/_classification.py:1318: UndefinedMetricWarning: Precision and F-score are ill-defined and being set to 0.0 in labels with no predicted samples. Use `zero_division` parameter to control this behavior.\n",
            "  _warn_prf(average, modifier, msg_start, len(result))\n"
          ]
        },
        {
          "output_type": "stream",
          "name": "stdout",
          "text": [
            "                           precision    recall  f1-score   support\n",
            "\n",
            "                        0       0.90      0.93      0.91      2710\n",
            "                        1       0.83      0.98      0.90      2568\n",
            "                       10       0.52      0.67      0.58       783\n",
            "                       11       0.61      0.62      0.61       741\n",
            "                       12       0.83      0.89      0.86       722\n",
            "                       13       0.57      0.73      0.64       693\n",
            "                       14       0.91      0.93      0.92       680\n",
            "                        2       0.70      0.90      0.78      1643\n",
            "                        3       0.64      0.82      0.72      1526\n",
            "                        4       0.90      0.91      0.91      1339\n",
            "                        5       0.72      0.84      0.77      1253\n",
            "                        6       0.69      0.82      0.75       924\n",
            "                        7       0.38      0.77      0.51       792\n",
            "                        8       0.82      0.94      0.87       769\n",
            "                        9       0.90      0.96      0.93       784\n",
            "                  allen-p       0.64      0.73      0.68       456\n",
            "                  arora-h       0.00      0.00      0.00        23\n",
            "                 badeer-r       0.00      0.00      0.00        13\n",
            "                 bailey-s       1.00      0.20      0.33         5\n",
            "               baughman-d       0.00      0.00      0.00        22\n",
            "                 benson-r       0.00      0.00      0.00         8\n",
            "                  blair-l       0.69      0.92      0.79       287\n",
            "    blair-l/deleted_items       0.00      0.00      0.00        14\n",
            "                brawner-s       0.54      0.06      0.11       111\n",
            "                    buy-r       0.64      0.72      0.68       206\n",
            "               campbell-l       0.52      0.14      0.22       220\n",
            "                 carson-m       0.08      0.02      0.03       121\n",
            "                   cash-m       0.78      0.90      0.84       348\n",
            "              causholli-m       0.71      0.39      0.51        76\n",
            "                 corman-s       0.50      0.19      0.28       175\n",
            "               crandell-s       0.50      0.02      0.05        42\n",
            "                 cuilla-m       1.00      0.03      0.05        39\n",
            "                  davis-d       0.76      0.35      0.48       101\n",
            "                   dean-c       0.00      0.00      0.00        13\n",
            "               delainey-d       0.78      0.93      0.85       546\n",
            "                derrick-j       0.55      0.51      0.53       200\n",
            "                dickson-s       0.00      0.00      0.00        64\n",
            "                 donoho-l       0.25      0.03      0.05        76\n",
            "                donohoe-t       0.00      0.00      0.00        13\n",
            "                dorland-c       0.60      0.67      0.63       342\n",
            "                  ermis-f       0.00      0.00      0.00        12\n",
            "                 farmer-d       0.82      0.85      0.84       498\n",
            "                fischer-m       0.33      0.06      0.10        35\n",
            "                 forney-j       0.56      0.19      0.29       150\n",
            "                 fossum-d       0.78      0.92      0.85       610\n",
            "                   gang-l       0.50      0.08      0.14        25\n",
            "                    gay-r       0.18      0.03      0.05       181\n",
            "               geaccone-t       0.65      0.58      0.62       171\n",
            "           gilbertsmith-d       0.00      0.00      0.00         3\n",
            "                  giron-d       0.78      0.90      0.84       580\n",
            "               griffith-j       0.00      0.00      0.00        15\n",
            "                grigsby-m       0.66      0.71      0.68       259\n",
            "                 guzman-m       0.00      0.00      0.00        99\n",
            "               haedicke-m       0.66      0.51      0.58       340\n",
            "                   hain-m       0.78      0.38      0.51       100\n",
            "               hayslett-r       0.52      0.74      0.61       182\n",
            "          hayslett-r/hold       0.00      0.00      0.00         3\n",
            "                  heard-m       0.74      0.85      0.79       235\n",
            "            hendrickson-s       0.00      0.00      0.00        38\n",
            "              hernandez-j       0.43      0.64      0.51       170\n",
            "                  hodge-j       1.00      0.04      0.08        49\n",
            "                  holst-k       1.00      0.09      0.17        11\n",
            "                 horton-s       0.43      0.17      0.24       235\n",
            "   horton-s/deleted_items       0.00      0.00      0.00        28\n",
            "                  hyatt-k       0.62      0.05      0.10        91\n",
            "                   hyvl-d       0.55      0.36      0.44       190\n",
            "                   kean-s       0.62      0.66      0.64       544\n",
            "                 keavey-p       0.00      0.00      0.00        48\n",
            "                 keiser-k       0.73      0.48      0.58       113\n",
            "                   king-j       0.00      0.00      0.00         2\n",
            "                kitchen-l       0.68      0.78      0.73       363\n",
            "             kuykendall-t       0.20      0.01      0.01       145\n",
            "               lavorato-j       0.41      0.24      0.30       556\n",
            "                    lay-k       0.64      0.54      0.58       161\n",
            "                  lewis-a       0.00      0.00      0.00        20\n",
            "                 linder-e       0.00      0.00      0.00         1\n",
            "                  lokay-m       0.79      0.31      0.44        97\n",
            "                  lokey-t       0.67      0.04      0.07        51\n",
            "                  lucci-p       0.62      0.12      0.21        81\n",
            "                  maggi-m       0.70      0.44      0.54        43\n",
            "                 martin-t       0.41      0.12      0.19        74\n",
            "                    may-l       0.00      0.00      0.00        26\n",
            "                mccarty-d       0.00      0.00      0.00        49\n",
            "              mcconnell-m       0.64      0.80      0.71       528\n",
            "                  mckay-b       0.00      0.00      0.00        46\n",
            "                  mckay-j       0.56      0.09      0.16        99\n",
            "             mclaughlin-e       0.71      0.74      0.73       203\n",
            "                 meyers-a       0.00      0.00      0.00         4\n",
            "          mims-thurston-p       0.40      0.08      0.13       223\n",
            "                 motley-m       0.00      0.00      0.00         4\n",
            "                   neal-s       0.70      0.61      0.65       356\n",
            "                  nemec-g       0.60      0.80      0.69       659\n",
            "                  panus-s       0.00      0.00      0.00         9\n",
            "                  parks-j       0.44      0.49      0.46       160\n",
            "                pereira-s       0.73      0.31      0.44        96\n",
            "                 phanis-s       0.00      0.00      0.00         1\n",
            "                pimenov-v       0.00      0.00      0.00        27\n",
            "                platter-p       0.00      0.00      0.00        37\n",
            "                 presto-k       0.44      0.60      0.51       280\n",
            "                 quenet-j       0.00      0.00      0.00        38\n",
            "                quigley-d       0.47      0.40      0.43       144\n",
            "                   rapp-b       0.00      0.00      0.00        39\n",
            "              reitmeyer-j       0.00      0.00      0.00        18\n",
            "                 richey-c       0.50      0.16      0.25       110\n",
            "                   ring-a       0.47      0.10      0.16        82\n",
            "                   ring-r       0.00      0.00      0.00        16\n",
            "               rodrique-r       0.62      0.77      0.69       435\n",
            "                 rogers-b       0.79      0.89      0.84       540\n",
            "               ruscitti-k       0.62      0.35      0.45       122\n",
            "                  sager-e       0.68      0.71      0.70       462\n",
            "                  saibi-e       0.00      0.00      0.00        18\n",
            "              salisbury-h       0.20      0.02      0.04        46\n",
            "                sanchez-m       0.00      0.00      0.00        28\n",
            "                sanders-r       0.68      0.74      0.71       601\n",
            "               scholtes-d       0.00      0.00      0.00        32\n",
            "scholtes-d/diana_scholtes       0.25      0.03      0.05        35\n",
            "            schoolcraft-d       0.68      0.65      0.66       182\n",
            "              schwieger-j       0.33      0.03      0.05        40\n",
            "              semperger-c       0.33      0.01      0.02        80\n",
            "               shankman-j       0.75      0.57      0.65       333\n",
            "                shapiro-r       0.00      0.00      0.00         1\n",
            "                shively-h       0.63      0.41      0.50       225\n",
            "               skilling-j       0.65      0.53      0.59       160\n",
            "                slinger-r       0.00      0.00      0.00        15\n",
            "                  smith-m       0.38      0.20      0.27       225\n",
            "                solberg-g       0.00      0.00      0.00        18\n",
            "                  south-s       0.00      0.00      0.00        13\n",
            "                  staab-t       0.80      0.12      0.22        32\n",
            "                stclair-c       0.78      0.87      0.83       371\n",
            "                steffes-j       0.66      0.79      0.72       415\n",
            "           stepenovitch-j       0.50      0.13      0.21        23\n",
            "  stokley-c/chris_stokley       0.61      0.39      0.48       141\n",
            "                 storey-g       0.00      0.00      0.00        48\n",
            "                  sturm-f       0.54      0.22      0.31       113\n",
            "               swerzbin-m       0.00      0.00      0.00        24\n",
            "                  tholt-j       0.41      0.15      0.22       208\n",
            "                 thomas-p       0.75      0.06      0.11        49\n",
            "               townsend-j       0.00      0.00      0.00        24\n",
            "               tycholiz-b       0.62      0.14      0.22       153\n",
            "                   ward-k       0.70      0.71      0.70       292\n",
            "                 watson-k       0.60      0.79      0.68       284\n",
            "                 weldon-c       0.11      0.01      0.02       124\n",
            "                whalley-g       0.00      0.00      0.00        40\n",
            "                whalley-l       0.55      0.34      0.42       117\n",
            "                  white-s       0.66      0.57      0.61       134\n",
            "                  whitt-m       0.45      0.27      0.34        75\n",
            "               williams-j       0.00      0.00      0.00        27\n",
            "              williams-w3       0.42      0.47      0.44       161\n",
            "                  wolfe-j       1.00      0.05      0.10        19\n",
            "                 ybarbo-p       0.50      0.03      0.05        40\n",
            "                 zipper-a       0.00      0.00      0.00       101\n",
            "               zufferli-j       0.50      0.10      0.17       105\n",
            "\n",
            "                 accuracy                           0.70     38042\n",
            "                macro avg       0.43      0.32      0.33     38042\n",
            "             weighted avg       0.67      0.70      0.66     38042\n",
            "\n"
          ]
        },
        {
          "output_type": "stream",
          "name": "stderr",
          "text": [
            "/usr/local/lib/python3.7/dist-packages/sklearn/metrics/_classification.py:1318: UndefinedMetricWarning: Precision and F-score are ill-defined and being set to 0.0 in labels with no predicted samples. Use `zero_division` parameter to control this behavior.\n",
            "  _warn_prf(average, modifier, msg_start, len(result))\n",
            "/usr/local/lib/python3.7/dist-packages/sklearn/metrics/_classification.py:1318: UndefinedMetricWarning: Precision and F-score are ill-defined and being set to 0.0 in labels with no predicted samples. Use `zero_division` parameter to control this behavior.\n",
            "  _warn_prf(average, modifier, msg_start, len(result))\n"
          ]
        }
      ]
    }
  ]
}
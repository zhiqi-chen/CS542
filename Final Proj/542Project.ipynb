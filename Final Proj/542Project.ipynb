{
  "nbformat": 4,
  "nbformat_minor": 0,
  "metadata": {
    "colab": {
      "provenance": []
    },
    "kernelspec": {
      "name": "python3",
      "display_name": "Python 3"
    },
    "language_info": {
      "name": "python"
    }
  },
  "cells": [
    {
      "cell_type": "markdown",
      "source": [
        "Load Data"
      ],
      "metadata": {
        "id": "P0UOf0OT78V1"
      }
    },
    {
      "cell_type": "code",
      "execution_count": null,
      "metadata": {
        "id": "bJnI66lgeuQ1"
      },
      "outputs": [],
      "source": [
        "import pandas as pd\n",
        "import numpy as np\n",
        "import seaborn as sns\n",
        "import matplotlib.pyplot as plt\n",
        "%matplotlib inline\n",
        "\n",
        "import email"
      ]
    },
    {
      "cell_type": "code",
      "source": [
        "from google.colab import drive\n",
        "drive.mount('/content/gdrive')"
      ],
      "metadata": {
        "colab": {
          "base_uri": "https://localhost:8080/"
        },
        "id": "lh_6QfHok6VH",
        "outputId": "19cefa25-7f62-4cd9-af7a-a879d15873b0"
      },
      "execution_count": null,
      "outputs": [
        {
          "output_type": "stream",
          "name": "stdout",
          "text": [
            "Mounted at /content/gdrive\n"
          ]
        }
      ]
    },
    {
      "cell_type": "code",
      "source": [
        "!unzip gdrive/My\\ Drive/emails.csv.zip"
      ],
      "metadata": {
        "colab": {
          "base_uri": "https://localhost:8080/"
        },
        "id": "RIfkafdklMTa",
        "outputId": "77c96d1a-2875-4973-f86a-1a2bb696a6d8"
      },
      "execution_count": null,
      "outputs": [
        {
          "output_type": "stream",
          "name": "stdout",
          "text": [
            "unzip:  cannot find or open gdrive/My Drive/emails.csv.zip, gdrive/My Drive/emails.csv.zip.zip or gdrive/My Drive/emails.csv.zip.ZIP.\n"
          ]
        }
      ]
    },
    {
      "cell_type": "code",
      "source": [
        "!unzip gdrive/My\\ Drive/emails.csv.zip > /dev/null"
      ],
      "metadata": {
        "colab": {
          "base_uri": "https://localhost:8080/"
        },
        "id": "zrCVl3r_lpzM",
        "outputId": "a9e70dbe-533a-4beb-f455-1beb4d3877e0"
      },
      "execution_count": null,
      "outputs": [
        {
          "output_type": "stream",
          "name": "stdout",
          "text": [
            "unzip:  cannot find or open gdrive/My Drive/emails.csv.zip, gdrive/My Drive/emails.csv.zip.zip or gdrive/My Drive/emails.csv.zip.ZIP.\n"
          ]
        }
      ]
    },
    {
      "cell_type": "code",
      "source": [
        "# considering the run-time, we only read the first 35000 rows here\n",
        "df = pd.read_csv(\"/content/drive/MyDrive/Colab Notebooks/emails.csv\", nrows = 1000)\n",
        "\n",
        "df.shape"
      ],
      "metadata": {
        "id": "sUA07J66oWbY"
      },
      "execution_count": null,
      "outputs": []
    },
    {
      "cell_type": "code",
      "source": [
        "df.head()"
      ],
      "metadata": {
        "colab": {
          "base_uri": "https://localhost:8080/",
          "height": 204
        },
        "id": "OTsf7LCto5qw",
        "outputId": "c9c519c3-5ac3-429a-dbab-e5fcee5ef8d9"
      },
      "execution_count": null,
      "outputs": [
        {
          "output_type": "execute_result",
          "data": {
            "text/plain": [
              "                       file                                            message\n",
              "0     allen-p/_sent_mail/1.  Message-ID: <18782981.1075855378110.JavaMail.e...\n",
              "1    allen-p/_sent_mail/10.  Message-ID: <15464986.1075855378456.JavaMail.e...\n",
              "2   allen-p/_sent_mail/100.  Message-ID: <24216240.1075855687451.JavaMail.e...\n",
              "3  allen-p/_sent_mail/1000.  Message-ID: <13505866.1075863688222.JavaMail.e...\n",
              "4  allen-p/_sent_mail/1001.  Message-ID: <30922949.1075863688243.JavaMail.e..."
            ],
            "text/html": [
              "\n",
              "  <div id=\"df-b130fe01-3a16-4ca4-ad65-d981636933bd\">\n",
              "    <div class=\"colab-df-container\">\n",
              "      <div>\n",
              "<style scoped>\n",
              "    .dataframe tbody tr th:only-of-type {\n",
              "        vertical-align: middle;\n",
              "    }\n",
              "\n",
              "    .dataframe tbody tr th {\n",
              "        vertical-align: top;\n",
              "    }\n",
              "\n",
              "    .dataframe thead th {\n",
              "        text-align: right;\n",
              "    }\n",
              "</style>\n",
              "<table border=\"1\" class=\"dataframe\">\n",
              "  <thead>\n",
              "    <tr style=\"text-align: right;\">\n",
              "      <th></th>\n",
              "      <th>file</th>\n",
              "      <th>message</th>\n",
              "    </tr>\n",
              "  </thead>\n",
              "  <tbody>\n",
              "    <tr>\n",
              "      <th>0</th>\n",
              "      <td>allen-p/_sent_mail/1.</td>\n",
              "      <td>Message-ID: &lt;18782981.1075855378110.JavaMail.e...</td>\n",
              "    </tr>\n",
              "    <tr>\n",
              "      <th>1</th>\n",
              "      <td>allen-p/_sent_mail/10.</td>\n",
              "      <td>Message-ID: &lt;15464986.1075855378456.JavaMail.e...</td>\n",
              "    </tr>\n",
              "    <tr>\n",
              "      <th>2</th>\n",
              "      <td>allen-p/_sent_mail/100.</td>\n",
              "      <td>Message-ID: &lt;24216240.1075855687451.JavaMail.e...</td>\n",
              "    </tr>\n",
              "    <tr>\n",
              "      <th>3</th>\n",
              "      <td>allen-p/_sent_mail/1000.</td>\n",
              "      <td>Message-ID: &lt;13505866.1075863688222.JavaMail.e...</td>\n",
              "    </tr>\n",
              "    <tr>\n",
              "      <th>4</th>\n",
              "      <td>allen-p/_sent_mail/1001.</td>\n",
              "      <td>Message-ID: &lt;30922949.1075863688243.JavaMail.e...</td>\n",
              "    </tr>\n",
              "  </tbody>\n",
              "</table>\n",
              "</div>\n",
              "      <button class=\"colab-df-convert\" onclick=\"convertToInteractive('df-b130fe01-3a16-4ca4-ad65-d981636933bd')\"\n",
              "              title=\"Convert this dataframe to an interactive table.\"\n",
              "              style=\"display:none;\">\n",
              "        \n",
              "  <svg xmlns=\"http://www.w3.org/2000/svg\" height=\"24px\"viewBox=\"0 0 24 24\"\n",
              "       width=\"24px\">\n",
              "    <path d=\"M0 0h24v24H0V0z\" fill=\"none\"/>\n",
              "    <path d=\"M18.56 5.44l.94 2.06.94-2.06 2.06-.94-2.06-.94-.94-2.06-.94 2.06-2.06.94zm-11 1L8.5 8.5l.94-2.06 2.06-.94-2.06-.94L8.5 2.5l-.94 2.06-2.06.94zm10 10l.94 2.06.94-2.06 2.06-.94-2.06-.94-.94-2.06-.94 2.06-2.06.94z\"/><path d=\"M17.41 7.96l-1.37-1.37c-.4-.4-.92-.59-1.43-.59-.52 0-1.04.2-1.43.59L10.3 9.45l-7.72 7.72c-.78.78-.78 2.05 0 2.83L4 21.41c.39.39.9.59 1.41.59.51 0 1.02-.2 1.41-.59l7.78-7.78 2.81-2.81c.8-.78.8-2.07 0-2.86zM5.41 20L4 18.59l7.72-7.72 1.47 1.35L5.41 20z\"/>\n",
              "  </svg>\n",
              "      </button>\n",
              "      \n",
              "  <style>\n",
              "    .colab-df-container {\n",
              "      display:flex;\n",
              "      flex-wrap:wrap;\n",
              "      gap: 12px;\n",
              "    }\n",
              "\n",
              "    .colab-df-convert {\n",
              "      background-color: #E8F0FE;\n",
              "      border: none;\n",
              "      border-radius: 50%;\n",
              "      cursor: pointer;\n",
              "      display: none;\n",
              "      fill: #1967D2;\n",
              "      height: 32px;\n",
              "      padding: 0 0 0 0;\n",
              "      width: 32px;\n",
              "    }\n",
              "\n",
              "    .colab-df-convert:hover {\n",
              "      background-color: #E2EBFA;\n",
              "      box-shadow: 0px 1px 2px rgba(60, 64, 67, 0.3), 0px 1px 3px 1px rgba(60, 64, 67, 0.15);\n",
              "      fill: #174EA6;\n",
              "    }\n",
              "\n",
              "    [theme=dark] .colab-df-convert {\n",
              "      background-color: #3B4455;\n",
              "      fill: #D2E3FC;\n",
              "    }\n",
              "\n",
              "    [theme=dark] .colab-df-convert:hover {\n",
              "      background-color: #434B5C;\n",
              "      box-shadow: 0px 1px 3px 1px rgba(0, 0, 0, 0.15);\n",
              "      filter: drop-shadow(0px 1px 2px rgba(0, 0, 0, 0.3));\n",
              "      fill: #FFFFFF;\n",
              "    }\n",
              "  </style>\n",
              "\n",
              "      <script>\n",
              "        const buttonEl =\n",
              "          document.querySelector('#df-b130fe01-3a16-4ca4-ad65-d981636933bd button.colab-df-convert');\n",
              "        buttonEl.style.display =\n",
              "          google.colab.kernel.accessAllowed ? 'block' : 'none';\n",
              "\n",
              "        async function convertToInteractive(key) {\n",
              "          const element = document.querySelector('#df-b130fe01-3a16-4ca4-ad65-d981636933bd');\n",
              "          const dataTable =\n",
              "            await google.colab.kernel.invokeFunction('convertToInteractive',\n",
              "                                                     [key], {});\n",
              "          if (!dataTable) return;\n",
              "\n",
              "          const docLinkHtml = 'Like what you see? Visit the ' +\n",
              "            '<a target=\"_blank\" href=https://colab.research.google.com/notebooks/data_table.ipynb>data table notebook</a>'\n",
              "            + ' to learn more about interactive tables.';\n",
              "          element.innerHTML = '';\n",
              "          dataTable['output_type'] = 'display_data';\n",
              "          await google.colab.output.renderOutput(dataTable, element);\n",
              "          const docLink = document.createElement('div');\n",
              "          docLink.innerHTML = docLinkHtml;\n",
              "          element.appendChild(docLink);\n",
              "        }\n",
              "      </script>\n",
              "    </div>\n",
              "  </div>\n",
              "  "
            ]
          },
          "metadata": {},
          "execution_count": 12
        }
      ]
    },
    {
      "cell_type": "code",
      "source": [
        "df.describe()"
      ],
      "metadata": {
        "colab": {
          "base_uri": "https://localhost:8080/",
          "height": 173
        },
        "id": "jnALULQo1qzX",
        "outputId": "f66a77df-7a4d-4d60-d722-914177f8accb"
      },
      "execution_count": null,
      "outputs": [
        {
          "output_type": "execute_result",
          "data": {
            "text/plain": [
              "                         file  \\\n",
              "count                   35000   \n",
              "unique                  35000   \n",
              "top     allen-p/_sent_mail/1.   \n",
              "freq                        1   \n",
              "\n",
              "                                                  message  \n",
              "count                                               35000  \n",
              "unique                                              35000  \n",
              "top     Message-ID: <18782981.1075855378110.JavaMail.e...  \n",
              "freq                                                    1  "
            ],
            "text/html": [
              "\n",
              "  <div id=\"df-fc14d01f-6ba5-484e-9b33-22801c44fef2\">\n",
              "    <div class=\"colab-df-container\">\n",
              "      <div>\n",
              "<style scoped>\n",
              "    .dataframe tbody tr th:only-of-type {\n",
              "        vertical-align: middle;\n",
              "    }\n",
              "\n",
              "    .dataframe tbody tr th {\n",
              "        vertical-align: top;\n",
              "    }\n",
              "\n",
              "    .dataframe thead th {\n",
              "        text-align: right;\n",
              "    }\n",
              "</style>\n",
              "<table border=\"1\" class=\"dataframe\">\n",
              "  <thead>\n",
              "    <tr style=\"text-align: right;\">\n",
              "      <th></th>\n",
              "      <th>file</th>\n",
              "      <th>message</th>\n",
              "    </tr>\n",
              "  </thead>\n",
              "  <tbody>\n",
              "    <tr>\n",
              "      <th>count</th>\n",
              "      <td>35000</td>\n",
              "      <td>35000</td>\n",
              "    </tr>\n",
              "    <tr>\n",
              "      <th>unique</th>\n",
              "      <td>35000</td>\n",
              "      <td>35000</td>\n",
              "    </tr>\n",
              "    <tr>\n",
              "      <th>top</th>\n",
              "      <td>allen-p/_sent_mail/1.</td>\n",
              "      <td>Message-ID: &lt;18782981.1075855378110.JavaMail.e...</td>\n",
              "    </tr>\n",
              "    <tr>\n",
              "      <th>freq</th>\n",
              "      <td>1</td>\n",
              "      <td>1</td>\n",
              "    </tr>\n",
              "  </tbody>\n",
              "</table>\n",
              "</div>\n",
              "      <button class=\"colab-df-convert\" onclick=\"convertToInteractive('df-fc14d01f-6ba5-484e-9b33-22801c44fef2')\"\n",
              "              title=\"Convert this dataframe to an interactive table.\"\n",
              "              style=\"display:none;\">\n",
              "        \n",
              "  <svg xmlns=\"http://www.w3.org/2000/svg\" height=\"24px\"viewBox=\"0 0 24 24\"\n",
              "       width=\"24px\">\n",
              "    <path d=\"M0 0h24v24H0V0z\" fill=\"none\"/>\n",
              "    <path d=\"M18.56 5.44l.94 2.06.94-2.06 2.06-.94-2.06-.94-.94-2.06-.94 2.06-2.06.94zm-11 1L8.5 8.5l.94-2.06 2.06-.94-2.06-.94L8.5 2.5l-.94 2.06-2.06.94zm10 10l.94 2.06.94-2.06 2.06-.94-2.06-.94-.94-2.06-.94 2.06-2.06.94z\"/><path d=\"M17.41 7.96l-1.37-1.37c-.4-.4-.92-.59-1.43-.59-.52 0-1.04.2-1.43.59L10.3 9.45l-7.72 7.72c-.78.78-.78 2.05 0 2.83L4 21.41c.39.39.9.59 1.41.59.51 0 1.02-.2 1.41-.59l7.78-7.78 2.81-2.81c.8-.78.8-2.07 0-2.86zM5.41 20L4 18.59l7.72-7.72 1.47 1.35L5.41 20z\"/>\n",
              "  </svg>\n",
              "      </button>\n",
              "      \n",
              "  <style>\n",
              "    .colab-df-container {\n",
              "      display:flex;\n",
              "      flex-wrap:wrap;\n",
              "      gap: 12px;\n",
              "    }\n",
              "\n",
              "    .colab-df-convert {\n",
              "      background-color: #E8F0FE;\n",
              "      border: none;\n",
              "      border-radius: 50%;\n",
              "      cursor: pointer;\n",
              "      display: none;\n",
              "      fill: #1967D2;\n",
              "      height: 32px;\n",
              "      padding: 0 0 0 0;\n",
              "      width: 32px;\n",
              "    }\n",
              "\n",
              "    .colab-df-convert:hover {\n",
              "      background-color: #E2EBFA;\n",
              "      box-shadow: 0px 1px 2px rgba(60, 64, 67, 0.3), 0px 1px 3px 1px rgba(60, 64, 67, 0.15);\n",
              "      fill: #174EA6;\n",
              "    }\n",
              "\n",
              "    [theme=dark] .colab-df-convert {\n",
              "      background-color: #3B4455;\n",
              "      fill: #D2E3FC;\n",
              "    }\n",
              "\n",
              "    [theme=dark] .colab-df-convert:hover {\n",
              "      background-color: #434B5C;\n",
              "      box-shadow: 0px 1px 3px 1px rgba(0, 0, 0, 0.15);\n",
              "      filter: drop-shadow(0px 1px 2px rgba(0, 0, 0, 0.3));\n",
              "      fill: #FFFFFF;\n",
              "    }\n",
              "  </style>\n",
              "\n",
              "      <script>\n",
              "        const buttonEl =\n",
              "          document.querySelector('#df-fc14d01f-6ba5-484e-9b33-22801c44fef2 button.colab-df-convert');\n",
              "        buttonEl.style.display =\n",
              "          google.colab.kernel.accessAllowed ? 'block' : 'none';\n",
              "\n",
              "        async function convertToInteractive(key) {\n",
              "          const element = document.querySelector('#df-fc14d01f-6ba5-484e-9b33-22801c44fef2');\n",
              "          const dataTable =\n",
              "            await google.colab.kernel.invokeFunction('convertToInteractive',\n",
              "                                                     [key], {});\n",
              "          if (!dataTable) return;\n",
              "\n",
              "          const docLinkHtml = 'Like what you see? Visit the ' +\n",
              "            '<a target=\"_blank\" href=https://colab.research.google.com/notebooks/data_table.ipynb>data table notebook</a>'\n",
              "            + ' to learn more about interactive tables.';\n",
              "          element.innerHTML = '';\n",
              "          dataTable['output_type'] = 'display_data';\n",
              "          await google.colab.output.renderOutput(dataTable, element);\n",
              "          const docLink = document.createElement('div');\n",
              "          docLink.innerHTML = docLinkHtml;\n",
              "          element.appendChild(docLink);\n",
              "        }\n",
              "      </script>\n",
              "    </div>\n",
              "  </div>\n",
              "  "
            ]
          },
          "metadata": {},
          "execution_count": 13
        }
      ]
    },
    {
      "cell_type": "code",
      "source": [
        "email_sent = df[df[\"file\"].str.contains('sent').tolist()]"
      ],
      "metadata": {
        "id": "ZH8XzSKHNivm"
      },
      "execution_count": null,
      "outputs": []
    },
    {
      "cell_type": "code",
      "source": [
        "email_sent = email_sent.assign(sender=email_sent[\"file\"].map(lambda x: re.search(\"(.*)/.*sent\", x).group(1)).values)\n",
        "email_sent.drop(\"file\", axis=1, inplace=True)\n",
        "email_sent[\"sender\"].value_counts().head(10)"
      ],
      "metadata": {
        "id": "m7unOZuCN3JV"
      },
      "execution_count": null,
      "outputs": []
    },
    {
      "cell_type": "markdown",
      "source": [
        "Extract Raw Text"
      ],
      "metadata": {
        "id": "WqozI1EY_a7o"
      }
    },
    {
      "cell_type": "code",
      "source": [
        "emails = list(map(email.parser.Parser().parsestr,df['message']))\n",
        "# extract headings\n",
        "# From\n",
        "# To\n",
        "# ...\n",
        "headings  = emails[0].keys()\n",
        "# extract the useful info for headings\n",
        "for key in headings:\n",
        "    df[key] = [doc[key] for doc in emails]\n",
        "\n",
        "def raw_text(emails):\n",
        "    text = []\n",
        "    for email in emails.walk():\n",
        "        if email.get_content_type() == 'text/plain':\n",
        "            text.append(email.get_payload())\n",
        "    return ''.join(text)\n",
        "\n",
        "# extract text body from raw text\n",
        "df['body'] = list(map(raw_text, emails))\n",
        "# extract the user from file\n",
        "df['user'] = df['file'].map(lambda x: x.split('/')[0])\n",
        "\n",
        "df.head()"
      ],
      "metadata": {
        "colab": {
          "base_uri": "https://localhost:8080/",
          "height": 727
        },
        "id": "hFmc7bhuAT5U",
        "outputId": "23f8caaf-eb6c-4822-e1ae-73cce5648d10"
      },
      "execution_count": null,
      "outputs": [
        {
          "output_type": "execute_result",
          "data": {
            "text/plain": [
              "                       file  \\\n",
              "0     allen-p/_sent_mail/1.   \n",
              "1    allen-p/_sent_mail/10.   \n",
              "2   allen-p/_sent_mail/100.   \n",
              "3  allen-p/_sent_mail/1000.   \n",
              "4  allen-p/_sent_mail/1001.   \n",
              "\n",
              "                                             message  \\\n",
              "0  Message-ID: <18782981.1075855378110.JavaMail.e...   \n",
              "1  Message-ID: <15464986.1075855378456.JavaMail.e...   \n",
              "2  Message-ID: <24216240.1075855687451.JavaMail.e...   \n",
              "3  Message-ID: <13505866.1075863688222.JavaMail.e...   \n",
              "4  Message-ID: <30922949.1075863688243.JavaMail.e...   \n",
              "\n",
              "                                      Message-ID  \\\n",
              "0  <18782981.1075855378110.JavaMail.evans@thyme>   \n",
              "1  <15464986.1075855378456.JavaMail.evans@thyme>   \n",
              "2  <24216240.1075855687451.JavaMail.evans@thyme>   \n",
              "3  <13505866.1075863688222.JavaMail.evans@thyme>   \n",
              "4  <30922949.1075863688243.JavaMail.evans@thyme>   \n",
              "\n",
              "                                    Date                     From  \\\n",
              "0  Mon, 14 May 2001 16:39:00 -0700 (PDT)  phillip.allen@enron.com   \n",
              "1   Fri, 4 May 2001 13:51:00 -0700 (PDT)  phillip.allen@enron.com   \n",
              "2  Wed, 18 Oct 2000 03:00:00 -0700 (PDT)  phillip.allen@enron.com   \n",
              "3  Mon, 23 Oct 2000 06:13:00 -0700 (PDT)  phillip.allen@enron.com   \n",
              "4  Thu, 31 Aug 2000 05:07:00 -0700 (PDT)  phillip.allen@enron.com   \n",
              "\n",
              "                        To    Subject Mime-Version  \\\n",
              "0     tim.belden@enron.com                     1.0   \n",
              "1  john.lavorato@enron.com        Re:          1.0   \n",
              "2   leah.arsdall@enron.com   Re: test          1.0   \n",
              "3    randall.gay@enron.com                     1.0   \n",
              "4     greg.piper@enron.com  Re: Hello          1.0   \n",
              "\n",
              "                   Content-Type Content-Transfer-Encoding           X-From  \\\n",
              "0  text/plain; charset=us-ascii                      7bit  Phillip K Allen   \n",
              "1  text/plain; charset=us-ascii                      7bit  Phillip K Allen   \n",
              "2  text/plain; charset=us-ascii                      7bit  Phillip K Allen   \n",
              "3  text/plain; charset=us-ascii                      7bit  Phillip K Allen   \n",
              "4  text/plain; charset=us-ascii                      7bit  Phillip K Allen   \n",
              "\n",
              "                                                X-To X-cc X-bcc  \\\n",
              "0           Tim Belden <Tim Belden/Enron@EnronXGate>              \n",
              "1  John J Lavorato <John J Lavorato/ENRON@enronXg...              \n",
              "2                                   Leah Van Arsdall              \n",
              "3                                      Randall L Gay              \n",
              "4                                         Greg Piper              \n",
              "\n",
              "                                            X-Folder X-Origin  \\\n",
              "0  \\Phillip_Allen_Jan2002_1\\Allen, Phillip K.\\'Se...  Allen-P   \n",
              "1  \\Phillip_Allen_Jan2002_1\\Allen, Phillip K.\\'Se...  Allen-P   \n",
              "2    \\Phillip_Allen_Dec2000\\Notes Folders\\'sent mail  Allen-P   \n",
              "3    \\Phillip_Allen_Dec2000\\Notes Folders\\'sent mail  Allen-P   \n",
              "4    \\Phillip_Allen_Dec2000\\Notes Folders\\'sent mail  Allen-P   \n",
              "\n",
              "                    X-FileName  \\\n",
              "0  pallen (Non-Privileged).pst   \n",
              "1  pallen (Non-Privileged).pst   \n",
              "2                   pallen.nsf   \n",
              "3                   pallen.nsf   \n",
              "4                   pallen.nsf   \n",
              "\n",
              "                                                body     user  \n",
              "0                          Here is our forecast\\n\\n   allen-p  \n",
              "1  Traveling to have a business meeting takes the...  allen-p  \n",
              "2                     test successful.  way to go!!!  allen-p  \n",
              "3  Randy,\\n\\n Can you send me a schedule of the s...  allen-p  \n",
              "4                Let's shoot for Tuesday at 11:45.    allen-p  "
            ],
            "text/html": [
              "\n",
              "  <div id=\"df-b51bd76f-fa77-4c84-bea8-9f68935dee27\">\n",
              "    <div class=\"colab-df-container\">\n",
              "      <div>\n",
              "<style scoped>\n",
              "    .dataframe tbody tr th:only-of-type {\n",
              "        vertical-align: middle;\n",
              "    }\n",
              "\n",
              "    .dataframe tbody tr th {\n",
              "        vertical-align: top;\n",
              "    }\n",
              "\n",
              "    .dataframe thead th {\n",
              "        text-align: right;\n",
              "    }\n",
              "</style>\n",
              "<table border=\"1\" class=\"dataframe\">\n",
              "  <thead>\n",
              "    <tr style=\"text-align: right;\">\n",
              "      <th></th>\n",
              "      <th>file</th>\n",
              "      <th>message</th>\n",
              "      <th>Message-ID</th>\n",
              "      <th>Date</th>\n",
              "      <th>From</th>\n",
              "      <th>To</th>\n",
              "      <th>Subject</th>\n",
              "      <th>Mime-Version</th>\n",
              "      <th>Content-Type</th>\n",
              "      <th>Content-Transfer-Encoding</th>\n",
              "      <th>X-From</th>\n",
              "      <th>X-To</th>\n",
              "      <th>X-cc</th>\n",
              "      <th>X-bcc</th>\n",
              "      <th>X-Folder</th>\n",
              "      <th>X-Origin</th>\n",
              "      <th>X-FileName</th>\n",
              "      <th>body</th>\n",
              "      <th>user</th>\n",
              "    </tr>\n",
              "  </thead>\n",
              "  <tbody>\n",
              "    <tr>\n",
              "      <th>0</th>\n",
              "      <td>allen-p/_sent_mail/1.</td>\n",
              "      <td>Message-ID: &lt;18782981.1075855378110.JavaMail.e...</td>\n",
              "      <td>&lt;18782981.1075855378110.JavaMail.evans@thyme&gt;</td>\n",
              "      <td>Mon, 14 May 2001 16:39:00 -0700 (PDT)</td>\n",
              "      <td>phillip.allen@enron.com</td>\n",
              "      <td>tim.belden@enron.com</td>\n",
              "      <td></td>\n",
              "      <td>1.0</td>\n",
              "      <td>text/plain; charset=us-ascii</td>\n",
              "      <td>7bit</td>\n",
              "      <td>Phillip K Allen</td>\n",
              "      <td>Tim Belden &lt;Tim Belden/Enron@EnronXGate&gt;</td>\n",
              "      <td></td>\n",
              "      <td></td>\n",
              "      <td>\\Phillip_Allen_Jan2002_1\\Allen, Phillip K.\\'Se...</td>\n",
              "      <td>Allen-P</td>\n",
              "      <td>pallen (Non-Privileged).pst</td>\n",
              "      <td>Here is our forecast\\n\\n</td>\n",
              "      <td>allen-p</td>\n",
              "    </tr>\n",
              "    <tr>\n",
              "      <th>1</th>\n",
              "      <td>allen-p/_sent_mail/10.</td>\n",
              "      <td>Message-ID: &lt;15464986.1075855378456.JavaMail.e...</td>\n",
              "      <td>&lt;15464986.1075855378456.JavaMail.evans@thyme&gt;</td>\n",
              "      <td>Fri, 4 May 2001 13:51:00 -0700 (PDT)</td>\n",
              "      <td>phillip.allen@enron.com</td>\n",
              "      <td>john.lavorato@enron.com</td>\n",
              "      <td>Re:</td>\n",
              "      <td>1.0</td>\n",
              "      <td>text/plain; charset=us-ascii</td>\n",
              "      <td>7bit</td>\n",
              "      <td>Phillip K Allen</td>\n",
              "      <td>John J Lavorato &lt;John J Lavorato/ENRON@enronXg...</td>\n",
              "      <td></td>\n",
              "      <td></td>\n",
              "      <td>\\Phillip_Allen_Jan2002_1\\Allen, Phillip K.\\'Se...</td>\n",
              "      <td>Allen-P</td>\n",
              "      <td>pallen (Non-Privileged).pst</td>\n",
              "      <td>Traveling to have a business meeting takes the...</td>\n",
              "      <td>allen-p</td>\n",
              "    </tr>\n",
              "    <tr>\n",
              "      <th>2</th>\n",
              "      <td>allen-p/_sent_mail/100.</td>\n",
              "      <td>Message-ID: &lt;24216240.1075855687451.JavaMail.e...</td>\n",
              "      <td>&lt;24216240.1075855687451.JavaMail.evans@thyme&gt;</td>\n",
              "      <td>Wed, 18 Oct 2000 03:00:00 -0700 (PDT)</td>\n",
              "      <td>phillip.allen@enron.com</td>\n",
              "      <td>leah.arsdall@enron.com</td>\n",
              "      <td>Re: test</td>\n",
              "      <td>1.0</td>\n",
              "      <td>text/plain; charset=us-ascii</td>\n",
              "      <td>7bit</td>\n",
              "      <td>Phillip K Allen</td>\n",
              "      <td>Leah Van Arsdall</td>\n",
              "      <td></td>\n",
              "      <td></td>\n",
              "      <td>\\Phillip_Allen_Dec2000\\Notes Folders\\'sent mail</td>\n",
              "      <td>Allen-P</td>\n",
              "      <td>pallen.nsf</td>\n",
              "      <td>test successful.  way to go!!!</td>\n",
              "      <td>allen-p</td>\n",
              "    </tr>\n",
              "    <tr>\n",
              "      <th>3</th>\n",
              "      <td>allen-p/_sent_mail/1000.</td>\n",
              "      <td>Message-ID: &lt;13505866.1075863688222.JavaMail.e...</td>\n",
              "      <td>&lt;13505866.1075863688222.JavaMail.evans@thyme&gt;</td>\n",
              "      <td>Mon, 23 Oct 2000 06:13:00 -0700 (PDT)</td>\n",
              "      <td>phillip.allen@enron.com</td>\n",
              "      <td>randall.gay@enron.com</td>\n",
              "      <td></td>\n",
              "      <td>1.0</td>\n",
              "      <td>text/plain; charset=us-ascii</td>\n",
              "      <td>7bit</td>\n",
              "      <td>Phillip K Allen</td>\n",
              "      <td>Randall L Gay</td>\n",
              "      <td></td>\n",
              "      <td></td>\n",
              "      <td>\\Phillip_Allen_Dec2000\\Notes Folders\\'sent mail</td>\n",
              "      <td>Allen-P</td>\n",
              "      <td>pallen.nsf</td>\n",
              "      <td>Randy,\\n\\n Can you send me a schedule of the s...</td>\n",
              "      <td>allen-p</td>\n",
              "    </tr>\n",
              "    <tr>\n",
              "      <th>4</th>\n",
              "      <td>allen-p/_sent_mail/1001.</td>\n",
              "      <td>Message-ID: &lt;30922949.1075863688243.JavaMail.e...</td>\n",
              "      <td>&lt;30922949.1075863688243.JavaMail.evans@thyme&gt;</td>\n",
              "      <td>Thu, 31 Aug 2000 05:07:00 -0700 (PDT)</td>\n",
              "      <td>phillip.allen@enron.com</td>\n",
              "      <td>greg.piper@enron.com</td>\n",
              "      <td>Re: Hello</td>\n",
              "      <td>1.0</td>\n",
              "      <td>text/plain; charset=us-ascii</td>\n",
              "      <td>7bit</td>\n",
              "      <td>Phillip K Allen</td>\n",
              "      <td>Greg Piper</td>\n",
              "      <td></td>\n",
              "      <td></td>\n",
              "      <td>\\Phillip_Allen_Dec2000\\Notes Folders\\'sent mail</td>\n",
              "      <td>Allen-P</td>\n",
              "      <td>pallen.nsf</td>\n",
              "      <td>Let's shoot for Tuesday at 11:45.</td>\n",
              "      <td>allen-p</td>\n",
              "    </tr>\n",
              "  </tbody>\n",
              "</table>\n",
              "</div>\n",
              "      <button class=\"colab-df-convert\" onclick=\"convertToInteractive('df-b51bd76f-fa77-4c84-bea8-9f68935dee27')\"\n",
              "              title=\"Convert this dataframe to an interactive table.\"\n",
              "              style=\"display:none;\">\n",
              "        \n",
              "  <svg xmlns=\"http://www.w3.org/2000/svg\" height=\"24px\"viewBox=\"0 0 24 24\"\n",
              "       width=\"24px\">\n",
              "    <path d=\"M0 0h24v24H0V0z\" fill=\"none\"/>\n",
              "    <path d=\"M18.56 5.44l.94 2.06.94-2.06 2.06-.94-2.06-.94-.94-2.06-.94 2.06-2.06.94zm-11 1L8.5 8.5l.94-2.06 2.06-.94-2.06-.94L8.5 2.5l-.94 2.06-2.06.94zm10 10l.94 2.06.94-2.06 2.06-.94-2.06-.94-.94-2.06-.94 2.06-2.06.94z\"/><path d=\"M17.41 7.96l-1.37-1.37c-.4-.4-.92-.59-1.43-.59-.52 0-1.04.2-1.43.59L10.3 9.45l-7.72 7.72c-.78.78-.78 2.05 0 2.83L4 21.41c.39.39.9.59 1.41.59.51 0 1.02-.2 1.41-.59l7.78-7.78 2.81-2.81c.8-.78.8-2.07 0-2.86zM5.41 20L4 18.59l7.72-7.72 1.47 1.35L5.41 20z\"/>\n",
              "  </svg>\n",
              "      </button>\n",
              "      \n",
              "  <style>\n",
              "    .colab-df-container {\n",
              "      display:flex;\n",
              "      flex-wrap:wrap;\n",
              "      gap: 12px;\n",
              "    }\n",
              "\n",
              "    .colab-df-convert {\n",
              "      background-color: #E8F0FE;\n",
              "      border: none;\n",
              "      border-radius: 50%;\n",
              "      cursor: pointer;\n",
              "      display: none;\n",
              "      fill: #1967D2;\n",
              "      height: 32px;\n",
              "      padding: 0 0 0 0;\n",
              "      width: 32px;\n",
              "    }\n",
              "\n",
              "    .colab-df-convert:hover {\n",
              "      background-color: #E2EBFA;\n",
              "      box-shadow: 0px 1px 2px rgba(60, 64, 67, 0.3), 0px 1px 3px 1px rgba(60, 64, 67, 0.15);\n",
              "      fill: #174EA6;\n",
              "    }\n",
              "\n",
              "    [theme=dark] .colab-df-convert {\n",
              "      background-color: #3B4455;\n",
              "      fill: #D2E3FC;\n",
              "    }\n",
              "\n",
              "    [theme=dark] .colab-df-convert:hover {\n",
              "      background-color: #434B5C;\n",
              "      box-shadow: 0px 1px 3px 1px rgba(0, 0, 0, 0.15);\n",
              "      filter: drop-shadow(0px 1px 2px rgba(0, 0, 0, 0.3));\n",
              "      fill: #FFFFFF;\n",
              "    }\n",
              "  </style>\n",
              "\n",
              "      <script>\n",
              "        const buttonEl =\n",
              "          document.querySelector('#df-b51bd76f-fa77-4c84-bea8-9f68935dee27 button.colab-df-convert');\n",
              "        buttonEl.style.display =\n",
              "          google.colab.kernel.accessAllowed ? 'block' : 'none';\n",
              "\n",
              "        async function convertToInteractive(key) {\n",
              "          const element = document.querySelector('#df-b51bd76f-fa77-4c84-bea8-9f68935dee27');\n",
              "          const dataTable =\n",
              "            await google.colab.kernel.invokeFunction('convertToInteractive',\n",
              "                                                     [key], {});\n",
              "          if (!dataTable) return;\n",
              "\n",
              "          const docLinkHtml = 'Like what you see? Visit the ' +\n",
              "            '<a target=\"_blank\" href=https://colab.research.google.com/notebooks/data_table.ipynb>data table notebook</a>'\n",
              "            + ' to learn more about interactive tables.';\n",
              "          element.innerHTML = '';\n",
              "          dataTable['output_type'] = 'display_data';\n",
              "          await google.colab.output.renderOutput(dataTable, element);\n",
              "          const docLink = document.createElement('div');\n",
              "          docLink.innerHTML = docLinkHtml;\n",
              "          element.appendChild(docLink);\n",
              "        }\n",
              "      </script>\n",
              "    </div>\n",
              "  </div>\n",
              "  "
            ]
          },
          "metadata": {},
          "execution_count": 14
        }
      ]
    },
    {
      "cell_type": "code",
      "source": [
        "df.dtypes"
      ],
      "metadata": {
        "colab": {
          "base_uri": "https://localhost:8080/"
        },
        "id": "tmAB-tZEFfun",
        "outputId": "63735580-5b25-4912-ccce-87b591f18e19"
      },
      "execution_count": null,
      "outputs": [
        {
          "output_type": "execute_result",
          "data": {
            "text/plain": [
              "file                         object\n",
              "message                      object\n",
              "Message-ID                   object\n",
              "Date                         object\n",
              "From                         object\n",
              "To                           object\n",
              "Subject                      object\n",
              "Mime-Version                 object\n",
              "Content-Type                 object\n",
              "Content-Transfer-Encoding    object\n",
              "X-From                       object\n",
              "X-To                         object\n",
              "X-cc                         object\n",
              "X-bcc                        object\n",
              "X-Folder                     object\n",
              "X-Origin                     object\n",
              "X-FileName                   object\n",
              "body                         object\n",
              "user                         object\n",
              "dtype: object"
            ]
          },
          "metadata": {},
          "execution_count": 15
        }
      ]
    },
    {
      "cell_type": "code",
      "source": [
        "df.info()"
      ],
      "metadata": {
        "colab": {
          "base_uri": "https://localhost:8080/"
        },
        "id": "ih572SbsPAcw",
        "outputId": "ab78f849-521e-4f06-ce21-a03b8b0daac4"
      },
      "execution_count": null,
      "outputs": [
        {
          "output_type": "stream",
          "name": "stdout",
          "text": [
            "<class 'pandas.core.frame.DataFrame'>\n",
            "RangeIndex: 35000 entries, 0 to 34999\n",
            "Data columns (total 19 columns):\n",
            " #   Column                     Non-Null Count  Dtype \n",
            "---  ------                     --------------  ----- \n",
            " 0   file                       35000 non-null  object\n",
            " 1   message                    35000 non-null  object\n",
            " 2   Message-ID                 35000 non-null  object\n",
            " 3   Date                       35000 non-null  object\n",
            " 4   From                       35000 non-null  object\n",
            " 5   To                         33193 non-null  object\n",
            " 6   Subject                    35000 non-null  object\n",
            " 7   Mime-Version               34995 non-null  object\n",
            " 8   Content-Type               34995 non-null  object\n",
            " 9   Content-Transfer-Encoding  34995 non-null  object\n",
            " 10  X-From                     34995 non-null  object\n",
            " 11  X-To                       34995 non-null  object\n",
            " 12  X-cc                       34995 non-null  object\n",
            " 13  X-bcc                      34995 non-null  object\n",
            " 14  X-Folder                   34995 non-null  object\n",
            " 15  X-Origin                   34995 non-null  object\n",
            " 16  X-FileName                 34995 non-null  object\n",
            " 17  body                       35000 non-null  object\n",
            " 18  user                       35000 non-null  object\n",
            "dtypes: object(19)\n",
            "memory usage: 5.1+ MB\n"
          ]
        }
      ]
    },
    {
      "cell_type": "code",
      "source": [
        "email_parsed = df.copy()"
      ],
      "metadata": {
        "id": "firx0VcdOG4x"
      },
      "execution_count": null,
      "outputs": []
    },
    {
      "cell_type": "code",
      "source": [
        "def content_to_wordlist( content, remove_stopwords=False ):\n",
        "    content = re.sub(\"[^a-zA-Z]\",\" \", content)\n",
        "    words = content.lower().split()\n",
        "    \n",
        "    if remove_stopwords:\n",
        "        stops = set(stopwords.words(\"english\"))\n",
        "        words = [w for w in words if not w in stops]\n",
        "\n",
        "    return ' '.join(words)"
      ],
      "metadata": {
        "id": "8MnvuqhNM5h0"
      },
      "execution_count": null,
      "outputs": []
    },
    {
      "cell_type": "code",
      "source": [
        "# enron_parsed['To'] = enron_parsed['To'].astype(str) # in case we want to use 'To' as information\n",
        "data = pd.DataFrame(list(map(content_to_wordlist, \n",
        "                          email_parsed[['Subject', 'body']].apply(lambda x: ' '.join(x), axis=1))), \n",
        "                          columns = [\"body\"])"
      ],
      "metadata": {
        "id": "Rv3kbXQAM-M6"
      },
      "execution_count": null,
      "outputs": []
    },
    {
      "cell_type": "code",
      "source": [
        "data = data.assign(sender=email_sent[\"sender\"].values)\n",
        "data = data.replace({'sender': mapping})\n",
        "data.head()"
      ],
      "metadata": {
        "id": "03_UUztmNOZk"
      },
      "execution_count": null,
      "outputs": []
    },
    {
      "cell_type": "code",
      "source": [
        "from sklearn.feature_extraction.text import CountVectorizer\n",
        "vectorizer = CountVectorizer()\n",
        "X = vectorizer.fit_transform(df['body'])"
      ],
      "metadata": {
        "id": "W15PuvJuTO7R"
      },
      "execution_count": null,
      "outputs": []
    },
    {
      "cell_type": "code",
      "source": [
        "print(vectorizer.get_feature_names_out())"
      ],
      "metadata": {
        "colab": {
          "base_uri": "https://localhost:8080/"
        },
        "id": "fgRIKWpSWxgH",
        "outputId": "6e0ea53b-0685-4f12-c8a5-78ce1778406b"
      },
      "execution_count": null,
      "outputs": [
        {
          "output_type": "stream",
          "name": "stdout",
          "text": [
            "['00' '000' '0000' ... 'zznfvo' 'zztmky'\n",
            " 'zzwyriqeuzgdapy59k830iuldikj7cgbt6v6dpd4720dkomzivepjdkb1rf6sdzeabikjctikmk0']\n"
          ]
        }
      ]
    },
    {
      "cell_type": "code",
      "source": [
        "X.toarray()"
      ],
      "metadata": {
        "id": "0gPmmiCprwTy"
      },
      "execution_count": null,
      "outputs": []
    },
    {
      "cell_type": "code",
      "source": [
        "#creat an array list for the senders\n",
        "names = []\n",
        "for name in df['user']:\n",
        "    if name not in names:\n",
        "        names.append(name)\n",
        "\n",
        "# get the categories\n",
        "# each sender is consider as an uniqle class\n",
        "print(\"We have {} senders\".format(len(names)))\n",
        "# define the training set\n",
        "# the first #% of body texts are consider as the training set\n",
        "print(\"We have {} training samples\".format(len(df['body']))) # to be changed...\n",
        "# define the test set\n",
        "# rest of the body texts are consider as the testing set\n",
        "print(\"We have {} test samples\".format(len(df['body']))) # to be changed..."
      ],
      "metadata": {
        "id": "cRFf-jMbju1I"
      },
      "execution_count": null,
      "outputs": []
    }
  ]
}